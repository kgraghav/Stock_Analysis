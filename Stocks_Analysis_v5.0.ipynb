{
 "cells": [
  {
   "cell_type": "markdown",
   "metadata": {},
   "source": [
    "# Analyzing Stock Market Data to Build a Portfolio"
   ]
  },
  {
   "cell_type": "markdown",
   "metadata": {},
   "source": [
    "## Project Goal"
   ]
  },
  {
   "cell_type": "markdown",
   "metadata": {},
   "source": [
    "### Analyze share price data from various listings to answer the following questions:"
   ]
  },
  {
   "cell_type": "markdown",
   "metadata": {},
   "source": [
    "1. What kind of Growth % do we expect from the various listings? <br>\n",
    "2. How do the Growth % of the different listings correlate to each other? <br>\n",
    "3. What is the estimated listing share price at a future date (prediction)? <br>\n",
    "4. What kind of volatility do the listings have? <br>\n",
    "5. How can we use our analysis to form a balanced investment portfolio? <br>"
   ]
  },
  {
   "cell_type": "markdown",
   "metadata": {},
   "source": [
    "### Overall Methodology:"
   ]
  },
  {
   "cell_type": "markdown",
   "metadata": {},
   "source": [
    "1. Import and organize data for the various listings <br>\n",
    "2. Make observations about the data <br>\n",
    "3. Use these observations to answer the questions <br>"
   ]
  },
  {
   "cell_type": "markdown",
   "metadata": {},
   "source": [
    "## References"
   ]
  },
  {
   "cell_type": "markdown",
   "metadata": {},
   "source": [
    "Share price information obtained from: [Yahoo Finance](https://finance.yahoo.com/) <br>\n",
    "Yahoo Finance library: [yfinance](https://pypi.org/project/yfinance/) <br>\n",
    "Robinhood Stocks library: [robin_stocks](http://www.robin-stocks.com/en/latest/functions.html) <br>"
   ]
  },
  {
   "cell_type": "markdown",
   "metadata": {},
   "source": [
    "## Inputs"
   ]
  },
  {
   "cell_type": "markdown",
   "metadata": {},
   "source": [
    "### Below are the inputs to perform the analysis"
   ]
  },
  {
   "cell_type": "code",
   "execution_count": 1,
   "metadata": {},
   "outputs": [],
   "source": [
    "#s_list='AM AAPL AMZN FB NVDA NFLX MSFT PYPL GOOGL TWTR TSLA ZNGA NCLH '  # List of \"listings\" to be analyzed\n",
    "s_list='BTC-USD ETH DOGE-USD'\n",
    "total_investment=2001  # Total investment value in USD\n",
    "sample_interval ='1d'  # Time interval to fetch data at\n",
    "#start='11/27/2020'  # Start date of interest\n",
    "#start='09/26/2020'  # Start date of interest\n",
    "start='30w'\n",
    "end='03/06/2021'  # End date of interest\n",
    "datetime_query=['05/28/2021'] # Datetime query values (for prediction)\n",
    "pricetype='Close' # Open, Close, Low, High"
   ]
  },
  {
   "cell_type": "markdown",
   "metadata": {},
   "source": [
    "## Import Libraries"
   ]
  },
  {
   "cell_type": "code",
   "execution_count": 2,
   "metadata": {},
   "outputs": [
    {
     "data": {
      "text/plain": [
       "'3.6.12 | packaged by conda-forge | (default, Dec  9 2020, 00:36:02) \\n[GCC 9.3.0]'"
      ]
     },
     "execution_count": 2,
     "metadata": {},
     "output_type": "execute_result"
    }
   ],
   "source": [
    "# Python Version\n",
    "import sys\n",
    "sys.version"
   ]
  },
  {
   "cell_type": "code",
   "execution_count": 3,
   "metadata": {},
   "outputs": [
    {
     "name": "stdout",
     "output_type": "stream",
     "text": [
      "Requirement already satisfied: pip in /home/jupyterlab/conda/envs/python/lib/python3.6/site-packages (21.0.1)\n",
      "Requirement already satisfied: listfun in /home/jupyterlab/conda/envs/python/lib/python3.6/site-packages (1.2)\n",
      "Requirement already satisfied: expsolver in /home/jupyterlab/conda/envs/python/lib/python3.6/site-packages (0.5)\n",
      "Requirement already satisfied: lxml in /home/jupyterlab/conda/envs/python/lib/python3.6/site-packages (4.6.2)\n",
      "Requirement already satisfied: yfinance in /home/jupyterlab/conda/envs/python/lib/python3.6/site-packages (0.1.55)\n",
      "Requirement already satisfied: pandas>=0.24 in /home/jupyterlab/conda/envs/python/lib/python3.6/site-packages (from yfinance) (1.1.5)\n",
      "Requirement already satisfied: requests>=2.20 in /home/jupyterlab/conda/envs/python/lib/python3.6/site-packages (from yfinance) (2.25.0)\n",
      "Requirement already satisfied: lxml>=4.5.1 in /home/jupyterlab/conda/envs/python/lib/python3.6/site-packages (from yfinance) (4.6.2)\n",
      "Requirement already satisfied: multitasking>=0.0.7 in /home/jupyterlab/conda/envs/python/lib/python3.6/site-packages (from yfinance) (0.0.9)\n",
      "Requirement already satisfied: numpy>=1.15 in /home/jupyterlab/conda/envs/python/lib/python3.6/site-packages (from yfinance) (1.19.4)\n",
      "Requirement already satisfied: python-dateutil>=2.7.3 in /home/jupyterlab/conda/envs/python/lib/python3.6/site-packages (from pandas>=0.24->yfinance) (2.8.1)\n",
      "Requirement already satisfied: pytz>=2017.2 in /home/jupyterlab/conda/envs/python/lib/python3.6/site-packages (from pandas>=0.24->yfinance) (2020.4)\n",
      "Requirement already satisfied: six>=1.5 in /home/jupyterlab/conda/envs/python/lib/python3.6/site-packages (from python-dateutil>=2.7.3->pandas>=0.24->yfinance) (1.15.0)\n",
      "Requirement already satisfied: certifi>=2017.4.17 in /home/jupyterlab/conda/envs/python/lib/python3.6/site-packages (from requests>=2.20->yfinance) (2020.12.5)\n",
      "Requirement already satisfied: idna<3,>=2.5 in /home/jupyterlab/conda/envs/python/lib/python3.6/site-packages (from requests>=2.20->yfinance) (2.10)\n",
      "Requirement already satisfied: urllib3<1.27,>=1.21.1 in /home/jupyterlab/conda/envs/python/lib/python3.6/site-packages (from requests>=2.20->yfinance) (1.25.11)\n",
      "Requirement already satisfied: chardet<4,>=3.0.2 in /home/jupyterlab/conda/envs/python/lib/python3.6/site-packages (from requests>=2.20->yfinance) (3.0.4)\n",
      "Requirement already satisfied: robin_stocks in /home/jupyterlab/conda/envs/python/lib/python3.6/site-packages (2.0.3)\n",
      "Requirement already satisfied: python-dotenv in /home/jupyterlab/conda/envs/python/lib/python3.6/site-packages (from robin_stocks) (0.15.0)\n",
      "Requirement already satisfied: pyotp in /home/jupyterlab/conda/envs/python/lib/python3.6/site-packages (from robin_stocks) (2.6.0)\n",
      "Requirement already satisfied: requests in /home/jupyterlab/conda/envs/python/lib/python3.6/site-packages (from robin_stocks) (2.25.0)\n",
      "Requirement already satisfied: cryptography in /home/jupyterlab/conda/envs/python/lib/python3.6/site-packages (from robin_stocks) (3.3.1)\n",
      "Requirement already satisfied: cffi>=1.12 in /home/jupyterlab/conda/envs/python/lib/python3.6/site-packages (from cryptography->robin_stocks) (1.14.4)\n",
      "Requirement already satisfied: six>=1.4.1 in /home/jupyterlab/conda/envs/python/lib/python3.6/site-packages (from cryptography->robin_stocks) (1.15.0)\n",
      "Requirement already satisfied: pycparser in /home/jupyterlab/conda/envs/python/lib/python3.6/site-packages (from cffi>=1.12->cryptography->robin_stocks) (2.20)\n",
      "Requirement already satisfied: certifi>=2017.4.17 in /home/jupyterlab/conda/envs/python/lib/python3.6/site-packages (from requests->robin_stocks) (2020.12.5)\n",
      "Requirement already satisfied: idna<3,>=2.5 in /home/jupyterlab/conda/envs/python/lib/python3.6/site-packages (from requests->robin_stocks) (2.10)\n",
      "Requirement already satisfied: urllib3<1.27,>=1.21.1 in /home/jupyterlab/conda/envs/python/lib/python3.6/site-packages (from requests->robin_stocks) (1.25.11)\n",
      "Requirement already satisfied: chardet<4,>=3.0.2 in /home/jupyterlab/conda/envs/python/lib/python3.6/site-packages (from requests->robin_stocks) (3.0.4)\n",
      "Libraries imported.\n"
     ]
    }
   ],
   "source": [
    "#Update python standard libraries install\n",
    "!pip install --upgrade pip\n",
    "\n",
    "# library to for array handling\n",
    "import numpy as np \n",
    "\n",
    "# library for dataframes\n",
    "import pandas as pd \n",
    "pd.set_option('display.max_columns', None)\n",
    "pd.set_option('display.max_rows', None)\n",
    "\n",
    "# Linear Model\n",
    "import sklearn as sk\n",
    "\n",
    "# List Functions module\n",
    "!pip install listfun\n",
    "from listfun import Listoper as lst\n",
    "\n",
    "# Math Module\n",
    "import math\n",
    "\n",
    "# Matplotlib and associated plotting modules\n",
    "%matplotlib inline\n",
    "import matplotlib\n",
    "import matplotlib.pyplot as plt\n",
    "import matplotlib.cm as cm\n",
    "import matplotlib.colors as colors\n",
    "\n",
    "import seaborn as sns\n",
    "\n",
    "# Machine-Learning and analysis modules\n",
    "from sklearn.model_selection import train_test_split\n",
    "from sklearn.linear_model import LinearRegression\n",
    "\n",
    "! pip install expsolver;\n",
    "from expsolver import Solver as solve\n",
    "\n",
    "# Module to handle XML and HTML \n",
    "! pip install lxml;\n",
    "\n",
    "#Finance information import (Link in \"Yahoo Finance\" Markdown Cell in the \"References\" Section)\n",
    "!pip install yfinance;\n",
    "import yfinance as yf;\n",
    "\n",
    "#Robinhood stocks functions\n",
    "!pip install robin_stocks;\n",
    "import robin_stocks as r;\n",
    "\n",
    "print('Libraries imported.')"
   ]
  },
  {
   "cell_type": "markdown",
   "metadata": {},
   "source": [
    "## Import Data into DataFrame"
   ]
  },
  {
   "cell_type": "code",
   "execution_count": 4,
   "metadata": {},
   "outputs": [
    {
     "name": "stdout",
     "output_type": "stream",
     "text": [
      "Start: 2020-08-08 00:00:00, End: 2021-03-06 00:00:00\n"
     ]
    }
   ],
   "source": [
    "end=pd.to_datetime(end)\n",
    "if len(start)<=4:\n",
    "    start=end-pd.to_timedelta(start)\n",
    "else:\n",
    "    start=pd.to_datetime(start)\n",
    "print('Start: {}, End: {}'.format(start,end))"
   ]
  },
  {
   "cell_type": "markdown",
   "metadata": {},
   "source": [
    "### Create basic dataframe \"df_info\" containing all the available stocks information"
   ]
  },
  {
   "cell_type": "code",
   "execution_count": 5,
   "metadata": {},
   "outputs": [],
   "source": [
    "# Create list of stock names as specified by the User\n",
    "s_list=s_list.split(' ')"
   ]
  },
  {
   "cell_type": "code",
   "execution_count": 6,
   "metadata": {},
   "outputs": [
    {
     "data": {
      "text/html": [
       "<div>\n",
       "<style scoped>\n",
       "    .dataframe tbody tr th:only-of-type {\n",
       "        vertical-align: middle;\n",
       "    }\n",
       "\n",
       "    .dataframe tbody tr th {\n",
       "        vertical-align: top;\n",
       "    }\n",
       "\n",
       "    .dataframe thead th {\n",
       "        text-align: right;\n",
       "    }\n",
       "</style>\n",
       "<table border=\"1\" class=\"dataframe\">\n",
       "  <thead>\n",
       "    <tr style=\"text-align: right;\">\n",
       "      <th></th>\n",
       "      <th>Date</th>\n",
       "      <th>Open</th>\n",
       "      <th>High</th>\n",
       "      <th>Low</th>\n",
       "      <th>Close</th>\n",
       "      <th>Volume</th>\n",
       "      <th>Dividends</th>\n",
       "      <th>Stock Splits</th>\n",
       "      <th>Name</th>\n",
       "    </tr>\n",
       "  </thead>\n",
       "  <tbody>\n",
       "    <tr>\n",
       "      <th>0</th>\n",
       "      <td>2020-08-08</td>\n",
       "      <td>11604.553711</td>\n",
       "      <td>11800.064453</td>\n",
       "      <td>11558.431641</td>\n",
       "      <td>11754.045898</td>\n",
       "      <td>17572057837</td>\n",
       "      <td>0.0</td>\n",
       "      <td>0</td>\n",
       "      <td>BTC-USD</td>\n",
       "    </tr>\n",
       "    <tr>\n",
       "      <th>1</th>\n",
       "      <td>2020-08-09</td>\n",
       "      <td>11737.325195</td>\n",
       "      <td>11806.056641</td>\n",
       "      <td>11548.784180</td>\n",
       "      <td>11675.739258</td>\n",
       "      <td>17489608833</td>\n",
       "      <td>0.0</td>\n",
       "      <td>0</td>\n",
       "      <td>BTC-USD</td>\n",
       "    </tr>\n",
       "    <tr>\n",
       "      <th>2</th>\n",
       "      <td>2020-08-10</td>\n",
       "      <td>11662.256836</td>\n",
       "      <td>12045.140625</td>\n",
       "      <td>11662.256836</td>\n",
       "      <td>11878.111328</td>\n",
       "      <td>26114112569</td>\n",
       "      <td>0.0</td>\n",
       "      <td>0</td>\n",
       "      <td>BTC-USD</td>\n",
       "    </tr>\n",
       "    <tr>\n",
       "      <th>3</th>\n",
       "      <td>2020-08-11</td>\n",
       "      <td>11881.647461</td>\n",
       "      <td>11932.710938</td>\n",
       "      <td>11195.708984</td>\n",
       "      <td>11410.525391</td>\n",
       "      <td>27039782640</td>\n",
       "      <td>0.0</td>\n",
       "      <td>0</td>\n",
       "      <td>BTC-USD</td>\n",
       "    </tr>\n",
       "    <tr>\n",
       "      <th>4</th>\n",
       "      <td>2020-08-12</td>\n",
       "      <td>11404.596680</td>\n",
       "      <td>11748.396484</td>\n",
       "      <td>11249.605469</td>\n",
       "      <td>11584.934570</td>\n",
       "      <td>25064548486</td>\n",
       "      <td>0.0</td>\n",
       "      <td>0</td>\n",
       "      <td>BTC-USD</td>\n",
       "    </tr>\n",
       "  </tbody>\n",
       "</table>\n",
       "</div>"
      ],
      "text/plain": [
       "        Date          Open          High           Low         Close  \\\n",
       "0 2020-08-08  11604.553711  11800.064453  11558.431641  11754.045898   \n",
       "1 2020-08-09  11737.325195  11806.056641  11548.784180  11675.739258   \n",
       "2 2020-08-10  11662.256836  12045.140625  11662.256836  11878.111328   \n",
       "3 2020-08-11  11881.647461  11932.710938  11195.708984  11410.525391   \n",
       "4 2020-08-12  11404.596680  11748.396484  11249.605469  11584.934570   \n",
       "\n",
       "        Volume  Dividends  Stock Splits     Name  \n",
       "0  17572057837        0.0             0  BTC-USD  \n",
       "1  17489608833        0.0             0  BTC-USD  \n",
       "2  26114112569        0.0             0  BTC-USD  \n",
       "3  27039782640        0.0             0  BTC-USD  \n",
       "4  25064548486        0.0             0  BTC-USD  "
      ]
     },
     "execution_count": 6,
     "metadata": {},
     "output_type": "execute_result"
    }
   ],
   "source": [
    "# Initialize Basic Dataframe as empty\n",
    "df_info=pd.DataFrame() \n",
    "\n",
    "# Add Shares information for List of stock names\n",
    "for item in s_list:\n",
    "    data=yf.Ticker(item)\n",
    "    df_data=data.history(period=sample_interval,start=start ,end=end )\n",
    "    df_data=df_data.reset_index()\n",
    "    df_data['Name']=pd.DataFrame([item for i in range(0,len(df_data))])\n",
    "    df_info=pd.concat([df_info,df_data])\n",
    "    \n",
    "\n",
    "# Display basic information\n",
    "df_info.head()"
   ]
  },
  {
   "cell_type": "code",
   "execution_count": 7,
   "metadata": {},
   "outputs": [
    {
     "name": "stdout",
     "output_type": "stream",
     "text": [
      "Size of the full dataset is: 560 by 9\n"
     ]
    }
   ],
   "source": [
    "# Size of Data:\n",
    "print('Size of the full dataset is: {} by {}'.format(df_info.shape[0],df_info.shape[1]))"
   ]
  },
  {
   "cell_type": "markdown",
   "metadata": {},
   "source": [
    "## Exploratory Pre-Processing Analysis"
   ]
  },
  {
   "cell_type": "markdown",
   "metadata": {},
   "source": [
    "### Create Dataframe (df) of Relevant share Price vs. date, which will be the data looked at in this analysis  "
   ]
  },
  {
   "cell_type": "code",
   "execution_count": 8,
   "metadata": {},
   "outputs": [
    {
     "data": {
      "text/html": [
       "<div>\n",
       "<style scoped>\n",
       "    .dataframe tbody tr th:only-of-type {\n",
       "        vertical-align: middle;\n",
       "    }\n",
       "\n",
       "    .dataframe tbody tr th {\n",
       "        vertical-align: top;\n",
       "    }\n",
       "\n",
       "    .dataframe thead th {\n",
       "        text-align: right;\n",
       "    }\n",
       "</style>\n",
       "<table border=\"1\" class=\"dataframe\">\n",
       "  <thead>\n",
       "    <tr style=\"text-align: right;\">\n",
       "      <th></th>\n",
       "      <th>BTC-USD</th>\n",
       "      <th>ETH</th>\n",
       "      <th>DOGE-USD</th>\n",
       "    </tr>\n",
       "  </thead>\n",
       "  <tbody>\n",
       "    <tr>\n",
       "      <th>2021-02-25</th>\n",
       "      <td>47093.851562</td>\n",
       "      <td>25.110001</td>\n",
       "      <td>0.050167</td>\n",
       "    </tr>\n",
       "    <tr>\n",
       "      <th>2021-02-26</th>\n",
       "      <td>46339.761719</td>\n",
       "      <td>25.620001</td>\n",
       "      <td>0.050480</td>\n",
       "    </tr>\n",
       "    <tr>\n",
       "      <th>2021-02-27</th>\n",
       "      <td>46188.453125</td>\n",
       "      <td>26.139999</td>\n",
       "      <td>0.050083</td>\n",
       "    </tr>\n",
       "    <tr>\n",
       "      <th>2021-02-28</th>\n",
       "      <td>45137.769531</td>\n",
       "      <td>26.139999</td>\n",
       "      <td>0.048052</td>\n",
       "    </tr>\n",
       "    <tr>\n",
       "      <th>2021-03-01</th>\n",
       "      <td>49631.242188</td>\n",
       "      <td>26.139999</td>\n",
       "      <td>0.050599</td>\n",
       "    </tr>\n",
       "    <tr>\n",
       "      <th>2021-03-02</th>\n",
       "      <td>48378.988281</td>\n",
       "      <td>26.219999</td>\n",
       "      <td>0.050262</td>\n",
       "    </tr>\n",
       "    <tr>\n",
       "      <th>2021-03-03</th>\n",
       "      <td>50538.242188</td>\n",
       "      <td>25.959999</td>\n",
       "      <td>0.050592</td>\n",
       "    </tr>\n",
       "    <tr>\n",
       "      <th>2021-03-04</th>\n",
       "      <td>48561.167969</td>\n",
       "      <td>24.860001</td>\n",
       "      <td>0.050048</td>\n",
       "    </tr>\n",
       "    <tr>\n",
       "      <th>2021-03-05</th>\n",
       "      <td>48927.304688</td>\n",
       "      <td>25.459999</td>\n",
       "      <td>0.049609</td>\n",
       "    </tr>\n",
       "    <tr>\n",
       "      <th>2021-03-06</th>\n",
       "      <td>48912.382812</td>\n",
       "      <td>25.459999</td>\n",
       "      <td>0.050984</td>\n",
       "    </tr>\n",
       "  </tbody>\n",
       "</table>\n",
       "</div>"
      ],
      "text/plain": [
       "                 BTC-USD        ETH  DOGE-USD\n",
       "2021-02-25  47093.851562  25.110001  0.050167\n",
       "2021-02-26  46339.761719  25.620001  0.050480\n",
       "2021-02-27  46188.453125  26.139999  0.050083\n",
       "2021-02-28  45137.769531  26.139999  0.048052\n",
       "2021-03-01  49631.242188  26.139999  0.050599\n",
       "2021-03-02  48378.988281  26.219999  0.050262\n",
       "2021-03-03  50538.242188  25.959999  0.050592\n",
       "2021-03-04  48561.167969  24.860001  0.050048\n",
       "2021-03-05  48927.304688  25.459999  0.049609\n",
       "2021-03-06  48912.382812  25.459999  0.050984"
      ]
     },
     "execution_count": 8,
     "metadata": {},
     "output_type": "execute_result"
    }
   ],
   "source": [
    "# Create new Dataframe of relevant Share Prices\n",
    "datevalues=df_info['Date'].sort_values().drop_duplicates().tolist()\n",
    "df=pd.DataFrame(index=datevalues,columns=s_list)\n",
    "for item in s_list:\n",
    "    df_item=df_info[df_info['Name']==item]\n",
    "    for ind in df.index.tolist():\n",
    "    #df[['Date',item]]=df_info.loc[df_info['Name']==item,['Date',pricetype]]\n",
    "        try:\n",
    "            df.loc[ind,item]=df_item.loc[df_item['Date']==ind,pricetype].values[0]\n",
    "        except:\n",
    "            pass\n",
    "    df[item].fillna(method='bfill',inplace=True)\n",
    "    df[item].fillna(method='ffill',inplace=True)\n",
    "\n",
    "df_price=df.copy()\n",
    "# Display initial few contents of the Dataset\n",
    "df.tail(10)"
   ]
  },
  {
   "cell_type": "markdown",
   "metadata": {},
   "source": [
    "### Display basic information about this dataset"
   ]
  },
  {
   "cell_type": "code",
   "execution_count": 9,
   "metadata": {},
   "outputs": [
    {
     "data": {
      "text/html": [
       "<style  type=\"text/css\" >\n",
       "#T_70763e30_7f16_11eb_b0d6_a214b1bd4a2frow0_col0,#T_70763e30_7f16_11eb_b0d6_a214b1bd4a2frow0_col1,#T_70763e30_7f16_11eb_b0d6_a214b1bd4a2frow0_col2,#T_70763e30_7f16_11eb_b0d6_a214b1bd4a2frow1_col1,#T_70763e30_7f16_11eb_b0d6_a214b1bd4a2frow1_col2,#T_70763e30_7f16_11eb_b0d6_a214b1bd4a2frow2_col1,#T_70763e30_7f16_11eb_b0d6_a214b1bd4a2frow2_col2,#T_70763e30_7f16_11eb_b0d6_a214b1bd4a2frow3_col1,#T_70763e30_7f16_11eb_b0d6_a214b1bd4a2frow3_col2,#T_70763e30_7f16_11eb_b0d6_a214b1bd4a2frow4_col1,#T_70763e30_7f16_11eb_b0d6_a214b1bd4a2frow4_col2,#T_70763e30_7f16_11eb_b0d6_a214b1bd4a2frow5_col1,#T_70763e30_7f16_11eb_b0d6_a214b1bd4a2frow5_col2,#T_70763e30_7f16_11eb_b0d6_a214b1bd4a2frow6_col1,#T_70763e30_7f16_11eb_b0d6_a214b1bd4a2frow6_col2,#T_70763e30_7f16_11eb_b0d6_a214b1bd4a2frow7_col1,#T_70763e30_7f16_11eb_b0d6_a214b1bd4a2frow7_col2{\n",
       "            background-color:  #fff7fb;\n",
       "            color:  #000000;\n",
       "        }#T_70763e30_7f16_11eb_b0d6_a214b1bd4a2frow1_col0,#T_70763e30_7f16_11eb_b0d6_a214b1bd4a2frow2_col0,#T_70763e30_7f16_11eb_b0d6_a214b1bd4a2frow3_col0,#T_70763e30_7f16_11eb_b0d6_a214b1bd4a2frow4_col0,#T_70763e30_7f16_11eb_b0d6_a214b1bd4a2frow5_col0,#T_70763e30_7f16_11eb_b0d6_a214b1bd4a2frow6_col0,#T_70763e30_7f16_11eb_b0d6_a214b1bd4a2frow7_col0{\n",
       "            background-color:  #023858;\n",
       "            color:  #f1f1f1;\n",
       "        }</style><table id=\"T_70763e30_7f16_11eb_b0d6_a214b1bd4a2f\" ><thead>    <tr>        <th class=\"blank level0\" ></th>        <th class=\"col_heading level0 col0\" >BTC-USD</th>        <th class=\"col_heading level0 col1\" >ETH</th>        <th class=\"col_heading level0 col2\" >DOGE-USD</th>    </tr></thead><tbody>\n",
       "                <tr>\n",
       "                        <th id=\"T_70763e30_7f16_11eb_b0d6_a214b1bd4a2flevel0_row0\" class=\"row_heading level0 row0\" >count</th>\n",
       "                        <td id=\"T_70763e30_7f16_11eb_b0d6_a214b1bd4a2frow0_col0\" class=\"data row0 col0\" >211.00</td>\n",
       "                        <td id=\"T_70763e30_7f16_11eb_b0d6_a214b1bd4a2frow0_col1\" class=\"data row0 col1\" >211.00</td>\n",
       "                        <td id=\"T_70763e30_7f16_11eb_b0d6_a214b1bd4a2frow0_col2\" class=\"data row0 col2\" >211.00</td>\n",
       "            </tr>\n",
       "            <tr>\n",
       "                        <th id=\"T_70763e30_7f16_11eb_b0d6_a214b1bd4a2flevel0_row1\" class=\"row_heading level0 row1\" >mean</th>\n",
       "                        <td id=\"T_70763e30_7f16_11eb_b0d6_a214b1bd4a2frow1_col0\" class=\"data row1 col0\" >22831.83</td>\n",
       "                        <td id=\"T_70763e30_7f16_11eb_b0d6_a214b1bd4a2frow1_col1\" class=\"data row1 col1\" >18.48</td>\n",
       "                        <td id=\"T_70763e30_7f16_11eb_b0d6_a214b1bd4a2frow1_col2\" class=\"data row1 col2\" >0.01</td>\n",
       "            </tr>\n",
       "            <tr>\n",
       "                        <th id=\"T_70763e30_7f16_11eb_b0d6_a214b1bd4a2flevel0_row2\" class=\"row_heading level0 row2\" >std</th>\n",
       "                        <td id=\"T_70763e30_7f16_11eb_b0d6_a214b1bd4a2frow2_col0\" class=\"data row2 col0\" >13471.08</td>\n",
       "                        <td id=\"T_70763e30_7f16_11eb_b0d6_a214b1bd4a2frow2_col1\" class=\"data row2 col1\" >4.17</td>\n",
       "                        <td id=\"T_70763e30_7f16_11eb_b0d6_a214b1bd4a2frow2_col2\" class=\"data row2 col2\" >0.02</td>\n",
       "            </tr>\n",
       "            <tr>\n",
       "                        <th id=\"T_70763e30_7f16_11eb_b0d6_a214b1bd4a2flevel0_row3\" class=\"row_heading level0 row3\" >min</th>\n",
       "                        <td id=\"T_70763e30_7f16_11eb_b0d6_a214b1bd4a2frow3_col0\" class=\"data row3 col0\" >10131.52</td>\n",
       "                        <td id=\"T_70763e30_7f16_11eb_b0d6_a214b1bd4a2frow3_col1\" class=\"data row3 col1\" >12.58</td>\n",
       "                        <td id=\"T_70763e30_7f16_11eb_b0d6_a214b1bd4a2frow3_col2\" class=\"data row3 col2\" >0.00</td>\n",
       "            </tr>\n",
       "            <tr>\n",
       "                        <th id=\"T_70763e30_7f16_11eb_b0d6_a214b1bd4a2flevel0_row4\" class=\"row_heading level0 row4\" >25%</th>\n",
       "                        <td id=\"T_70763e30_7f16_11eb_b0d6_a214b1bd4a2frow4_col0\" class=\"data row4 col0\" >11563.72</td>\n",
       "                        <td id=\"T_70763e30_7f16_11eb_b0d6_a214b1bd4a2frow4_col1\" class=\"data row4 col1\" >14.26</td>\n",
       "                        <td id=\"T_70763e30_7f16_11eb_b0d6_a214b1bd4a2frow4_col2\" class=\"data row4 col2\" >0.00</td>\n",
       "            </tr>\n",
       "            <tr>\n",
       "                        <th id=\"T_70763e30_7f16_11eb_b0d6_a214b1bd4a2flevel0_row5\" class=\"row_heading level0 row5\" >50%</th>\n",
       "                        <td id=\"T_70763e30_7f16_11eb_b0d6_a214b1bd4a2frow5_col0\" class=\"data row5 col0\" >17804.01</td>\n",
       "                        <td id=\"T_70763e30_7f16_11eb_b0d6_a214b1bd4a2frow5_col1\" class=\"data row5 col1\" >17.90</td>\n",
       "                        <td id=\"T_70763e30_7f16_11eb_b0d6_a214b1bd4a2frow5_col2\" class=\"data row5 col2\" >0.00</td>\n",
       "            </tr>\n",
       "            <tr>\n",
       "                        <th id=\"T_70763e30_7f16_11eb_b0d6_a214b1bd4a2flevel0_row6\" class=\"row_heading level0 row6\" >75%</th>\n",
       "                        <td id=\"T_70763e30_7f16_11eb_b0d6_a214b1bd4a2frow6_col0\" class=\"data row6 col0\" >33060.06</td>\n",
       "                        <td id=\"T_70763e30_7f16_11eb_b0d6_a214b1bd4a2frow6_col1\" class=\"data row6 col1\" >22.19</td>\n",
       "                        <td id=\"T_70763e30_7f16_11eb_b0d6_a214b1bd4a2frow6_col2\" class=\"data row6 col2\" >0.01</td>\n",
       "            </tr>\n",
       "            <tr>\n",
       "                        <th id=\"T_70763e30_7f16_11eb_b0d6_a214b1bd4a2flevel0_row7\" class=\"row_heading level0 row7\" >max</th>\n",
       "                        <td id=\"T_70763e30_7f16_11eb_b0d6_a214b1bd4a2frow7_col0\" class=\"data row7 col0\" >57539.95</td>\n",
       "                        <td id=\"T_70763e30_7f16_11eb_b0d6_a214b1bd4a2frow7_col1\" class=\"data row7 col1\" >26.22</td>\n",
       "                        <td id=\"T_70763e30_7f16_11eb_b0d6_a214b1bd4a2frow7_col2\" class=\"data row7 col2\" >0.08</td>\n",
       "            </tr>\n",
       "    </tbody></table>"
      ],
      "text/plain": [
       "<pandas.io.formats.style.Styler at 0x7f6300328160>"
      ]
     },
     "execution_count": 9,
     "metadata": {},
     "output_type": "execute_result"
    }
   ],
   "source": [
    "# Display basic statistics of the opening prices\n",
    "# Darker cells denote higher values\n",
    "df.describe().style.background_gradient(axis=1).format(\"{:.2f}\")"
   ]
  },
  {
   "cell_type": "markdown",
   "metadata": {},
   "source": [
    "### Create basic Time plot to look at pertinent information"
   ]
  },
  {
   "cell_type": "code",
   "execution_count": 10,
   "metadata": {},
   "outputs": [
    {
     "data": {
      "image/png": "[encoded data removed]",
      "text/plain": [
       "<Figure size 432x288 with 1 Axes>"
      ]
     },
     "metadata": {
      "needs_background": "light"
     },
     "output_type": "display_data"
    }
   ],
   "source": [
    "# Plot Open price vs. Time\n",
    "ax= plt.subplot()\n",
    "for item in df_price.columns:\n",
    "    plt.plot(df_price[item])\n",
    "\n",
    "plt.xticks(rotation=45)\n",
    "ax.legend(df_price.columns)\n",
    "plt.ylabel('Share Price [USD]')\n",
    "ax.grid(True)"
   ]
  },
  {
   "cell_type": "markdown",
   "metadata": {},
   "source": [
    "## What kind of Growth % do we see with the various listings?"
   ]
  },
  {
   "cell_type": "markdown",
   "metadata": {},
   "source": [
    "### Normalize the opening price to determine Growth % over the period of interest"
   ]
  },
  {
   "cell_type": "markdown",
   "metadata": {},
   "source": [
    "Normalize w.r.t. start price (df_start) <br> \n",
    "Normalization used: (price-start_price)/start_price*100 to obtain df_norm"
   ]
  },
  {
   "cell_type": "code",
   "execution_count": 11,
   "metadata": {},
   "outputs": [
    {
     "data": {
      "text/html": [
       "<div>\n",
       "<style scoped>\n",
       "    .dataframe tbody tr th:only-of-type {\n",
       "        vertical-align: middle;\n",
       "    }\n",
       "\n",
       "    .dataframe tbody tr th {\n",
       "        vertical-align: top;\n",
       "    }\n",
       "\n",
       "    .dataframe thead th {\n",
       "        text-align: right;\n",
       "    }\n",
       "</style>\n",
       "<table border=\"1\" class=\"dataframe\">\n",
       "  <thead>\n",
       "    <tr style=\"text-align: right;\">\n",
       "      <th></th>\n",
       "      <th>BTC-USD</th>\n",
       "      <th>ETH</th>\n",
       "      <th>DOGE-USD</th>\n",
       "    </tr>\n",
       "  </thead>\n",
       "  <tbody>\n",
       "    <tr>\n",
       "      <th>2020-08-08</th>\n",
       "      <td>0.000000</td>\n",
       "      <td>0.000000</td>\n",
       "      <td>0.000000</td>\n",
       "    </tr>\n",
       "    <tr>\n",
       "      <th>2020-08-09</th>\n",
       "      <td>-0.666210</td>\n",
       "      <td>0.000000</td>\n",
       "      <td>-1.339028</td>\n",
       "    </tr>\n",
       "    <tr>\n",
       "      <th>2020-08-10</th>\n",
       "      <td>1.055513</td>\n",
       "      <td>0.000000</td>\n",
       "      <td>-0.313386</td>\n",
       "    </tr>\n",
       "    <tr>\n",
       "      <th>2020-08-11</th>\n",
       "      <td>-2.922572</td>\n",
       "      <td>-0.526701</td>\n",
       "      <td>-3.304842</td>\n",
       "    </tr>\n",
       "    <tr>\n",
       "      <th>2020-08-12</th>\n",
       "      <td>-1.438750</td>\n",
       "      <td>-2.407816</td>\n",
       "      <td>-0.740740</td>\n",
       "    </tr>\n",
       "  </tbody>\n",
       "</table>\n",
       "</div>"
      ],
      "text/plain": [
       "             BTC-USD       ETH  DOGE-USD\n",
       "2020-08-08  0.000000  0.000000  0.000000\n",
       "2020-08-09 -0.666210  0.000000 -1.339028\n",
       "2020-08-10  1.055513  0.000000 -0.313386\n",
       "2020-08-11 -2.922572 -0.526701 -3.304842\n",
       "2020-08-12 -1.438750 -2.407816 -0.740740"
      ]
     },
     "execution_count": 11,
     "metadata": {},
     "output_type": "execute_result"
    }
   ],
   "source": [
    "# Normalization Function\n",
    "def df_normalize(df):\n",
    "    df_strt=df.iloc[0,:]\n",
    "    df_norm=(df.iloc[:,:]-df_strt)/df_strt*100\n",
    "    df_strt=pd.DataFrame(df_strt).transpose()\n",
    "    df_strt.set_axis(['start_price'],axis=0,inplace=True)\n",
    "    return [df_norm,df_strt]\n",
    "\n",
    "# Store Normalized values in DataFrame and display results                          \n",
    "[df_norm,df_start]=df_normalize(df)\n",
    "df_norm.head()"
   ]
  },
  {
   "cell_type": "code",
   "execution_count": 12,
   "metadata": {},
   "outputs": [
    {
     "name": "stdout",
     "output_type": "stream",
     "text": [
      "Size of the data is: 211 by 3\n"
     ]
    }
   ],
   "source": [
    "# Size of Data:\n",
    "print('Size of the data is: {} by {}'.format(df_norm.shape[0],df_norm.shape[1]))"
   ]
  },
  {
   "cell_type": "code",
   "execution_count": 13,
   "metadata": {},
   "outputs": [
    {
     "data": {
      "text/html": [
       "<style  type=\"text/css\" >\n",
       "#T_717bcb2e_7f16_11eb_b0d6_a214b1bd4a2frow0_col0,#T_717bcb2e_7f16_11eb_b0d6_a214b1bd4a2frow0_col1,#T_717bcb2e_7f16_11eb_b0d6_a214b1bd4a2frow0_col2,#T_717bcb2e_7f16_11eb_b0d6_a214b1bd4a2frow1_col1,#T_717bcb2e_7f16_11eb_b0d6_a214b1bd4a2frow2_col2,#T_717bcb2e_7f16_11eb_b0d6_a214b1bd4a2frow3_col1{\n",
       "            background-color:  #fff7fb;\n",
       "            color:  #000000;\n",
       "        }#T_717bcb2e_7f16_11eb_b0d6_a214b1bd4a2frow1_col0{\n",
       "            background-color:  #d4d4e8;\n",
       "            color:  #000000;\n",
       "        }#T_717bcb2e_7f16_11eb_b0d6_a214b1bd4a2frow1_col2,#T_717bcb2e_7f16_11eb_b0d6_a214b1bd4a2frow2_col1,#T_717bcb2e_7f16_11eb_b0d6_a214b1bd4a2frow3_col2{\n",
       "            background-color:  #023858;\n",
       "            color:  #f1f1f1;\n",
       "        }#T_717bcb2e_7f16_11eb_b0d6_a214b1bd4a2frow2_col0{\n",
       "            background-color:  #529bc7;\n",
       "            color:  #000000;\n",
       "        }#T_717bcb2e_7f16_11eb_b0d6_a214b1bd4a2frow3_col0{\n",
       "            background-color:  #e9e5f1;\n",
       "            color:  #000000;\n",
       "        }</style><table id=\"T_717bcb2e_7f16_11eb_b0d6_a214b1bd4a2f\" ><thead>    <tr>        <th class=\"blank level0\" ></th>        <th class=\"col_heading level0 col0\" >BTC-USD</th>        <th class=\"col_heading level0 col1\" >ETH</th>        <th class=\"col_heading level0 col2\" >DOGE-USD</th>    </tr></thead><tbody>\n",
       "                <tr>\n",
       "                        <th id=\"T_717bcb2e_7f16_11eb_b0d6_a214b1bd4a2flevel0_row0\" class=\"row_heading level0 row0\" >count</th>\n",
       "                        <td id=\"T_717bcb2e_7f16_11eb_b0d6_a214b1bd4a2frow0_col0\" class=\"data row0 col0\" >211.0</td>\n",
       "                        <td id=\"T_717bcb2e_7f16_11eb_b0d6_a214b1bd4a2frow0_col1\" class=\"data row0 col1\" >211.0</td>\n",
       "                        <td id=\"T_717bcb2e_7f16_11eb_b0d6_a214b1bd4a2frow0_col2\" class=\"data row0 col2\" >211.0</td>\n",
       "            </tr>\n",
       "            <tr>\n",
       "                        <th id=\"T_717bcb2e_7f16_11eb_b0d6_a214b1bd4a2flevel0_row1\" class=\"row_heading level0 row1\" >mean</th>\n",
       "                        <td id=\"T_717bcb2e_7f16_11eb_b0d6_a214b1bd4a2frow1_col0\" class=\"data row1 col0\" >94.2</td>\n",
       "                        <td id=\"T_717bcb2e_7f16_11eb_b0d6_a214b1bd4a2frow1_col1\" class=\"data row1 col1\" >42.8</td>\n",
       "                        <td id=\"T_717bcb2e_7f16_11eb_b0d6_a214b1bd4a2frow1_col2\" class=\"data row1 col2\" >264.3</td>\n",
       "            </tr>\n",
       "            <tr>\n",
       "                        <th id=\"T_717bcb2e_7f16_11eb_b0d6_a214b1bd4a2flevel0_row2\" class=\"row_heading level0 row2\" >min</th>\n",
       "                        <td id=\"T_717bcb2e_7f16_11eb_b0d6_a214b1bd4a2frow2_col0\" class=\"data row2 col0\" >-13.8</td>\n",
       "                        <td id=\"T_717bcb2e_7f16_11eb_b0d6_a214b1bd4a2frow2_col1\" class=\"data row2 col1\" >-2.8</td>\n",
       "                        <td id=\"T_717bcb2e_7f16_11eb_b0d6_a214b1bd4a2frow2_col2\" class=\"data row2 col2\" >-28.3</td>\n",
       "            </tr>\n",
       "            <tr>\n",
       "                        <th id=\"T_717bcb2e_7f16_11eb_b0d6_a214b1bd4a2flevel0_row3\" class=\"row_heading level0 row3\" >max</th>\n",
       "                        <td id=\"T_717bcb2e_7f16_11eb_b0d6_a214b1bd4a2frow3_col0\" class=\"data row3 col0\" >389.5</td>\n",
       "                        <td id=\"T_717bcb2e_7f16_11eb_b0d6_a214b1bd4a2frow3_col1\" class=\"data row3 col1\" >102.6</td>\n",
       "                        <td id=\"T_717bcb2e_7f16_11eb_b0d6_a214b1bd4a2frow3_col2\" class=\"data row3 col2\" >2145.7</td>\n",
       "            </tr>\n",
       "    </tbody></table>"
      ],
      "text/plain": [
       "<pandas.io.formats.style.Styler at 0x7f62340978d0>"
      ]
     },
     "execution_count": 13,
     "metadata": {},
     "output_type": "execute_result"
    }
   ],
   "source": [
    "# Display basic statistics of the normalized prices\n",
    "# Darker cells denote higher values\n",
    "df_norm.describe().loc[['count','mean','min','max'],:].style.background_gradient(axis=1).format(\"{:.1f}\")"
   ]
  },
  {
   "cell_type": "markdown",
   "metadata": {},
   "source": [
    "### Plot trends in Normalized values"
   ]
  },
  {
   "cell_type": "markdown",
   "metadata": {},
   "source": [
    "Time Plot"
   ]
  },
  {
   "cell_type": "code",
   "execution_count": 14,
   "metadata": {},
   "outputs": [
    {
     "data": {
      "image/png": "[encoded data removed]",
      "text/plain": [
       "<Figure size 432x288 with 1 Axes>"
      ]
     },
     "metadata": {
      "needs_background": "light"
     },
     "output_type": "display_data"
    }
   ],
   "source": [
    "# Display Growth % over time\n",
    "ax= plt.subplot()\n",
    "for item in df_norm.columns:\n",
    "    plt.plot(df_norm[item])\n",
    "\n",
    "plt.xticks(rotation=45)\n",
    "ax.legend(df.columns,loc='upper center')\n",
    "plt.ylabel('Growth %')\n",
    "ax.grid(True)"
   ]
  },
  {
   "cell_type": "markdown",
   "metadata": {},
   "source": [
    "## How do the price gains of the listings correlate to each other?"
   ]
  },
  {
   "cell_type": "markdown",
   "metadata": {},
   "source": [
    "Correlation Matrix"
   ]
  },
  {
   "cell_type": "code",
   "execution_count": 15,
   "metadata": {},
   "outputs": [
    {
     "data": {
      "image/png": "[encoded data removed]",
      "text/plain": [
       "<Figure size 432x288 with 2 Axes>"
      ]
     },
     "metadata": {
      "needs_background": "light"
     },
     "output_type": "display_data"
    }
   ],
   "source": [
    "sns.heatmap(df_norm.corr());"
   ]
  },
  {
   "cell_type": "code",
   "execution_count": 16,
   "metadata": {},
   "outputs": [
    {
     "data": {
      "image/png": "[encoded data removed]",
      "text/plain": [
       "<Figure size 432x288 with 1 Axes>"
      ]
     },
     "metadata": {
      "needs_background": "light"
     },
     "output_type": "display_data"
    }
   ],
   "source": [
    "ax= plt.subplot()\n",
    "for item in df_norm.columns:\n",
    "    plt.scatter(df_norm.iloc[:,0],df_norm[item])\n",
    "\n",
    "ax.legend(df_norm.columns,loc='upper center')\n",
    "plt.xlabel('{} Growth %'.format(df_norm.columns[0]))\n",
    "plt.ylabel('Growth %')\n",
    "ax.grid(True)"
   ]
  },
  {
   "cell_type": "markdown",
   "metadata": {},
   "source": [
    "## Calculate percent and absolute estimate and bounds of Growth "
   ]
  },
  {
   "cell_type": "markdown",
   "metadata": {},
   "source": [
    "### Create a linear regression fit for the data with thrice the standard dev. of obs.-est. to determine the boundaries"
   ]
  },
  {
   "cell_type": "markdown",
   "metadata": {},
   "source": [
    "<b> Linear Regression object, score and price boundaries for each listing </b>"
   ]
  },
  {
   "cell_type": "code",
   "execution_count": 17,
   "metadata": {},
   "outputs": [],
   "source": [
    "def lin_obj(df):\n",
    "    df_lin=df.iloc[0:1,:]\n",
    "    df_lin.reindex(['fit_obj','score','bound'])\n",
    "    df_lin.drop(index=df_lin.index[0],inplace=True)\n",
    "    for item in df_lin.columns:\n",
    "        # ... (intercept and coeff.) of the fits\n",
    "        X=np.array(pd.to_numeric(df.index)).reshape(-1, 1)\n",
    "        Y=(df[item].values).reshape(-1, 1)\n",
    "        lin_list_coeff=[]\n",
    "        lin_list_intercept=[]\n",
    "        for i in range(0,1):\n",
    "            X_train, X_test, y_train, y_test = train_test_split(X, Y, test_size=0)\n",
    "            lin_obj=LinearRegression()\n",
    "            lin_obj.fit(X_train,y_train)\n",
    "            lin_list_coeff.append(lin_obj.coef_)\n",
    "            lin_list_intercept.append(lin_obj.intercept_)\n",
    "        linobj = LinearRegression()\n",
    "        linobj.coef_=np.array(np.array(lin_list_coeff).mean()).reshape(-1)\n",
    "        linobj.intercept_=np.array(np.array(lin_list_intercept).mean()).reshape(-1)\n",
    "        score=linobj.score(X,Y)\n",
    "        df_lin.loc['fit_obj',item]=linobj\n",
    "        df_lin.loc['score',item]=score\n",
    "\n",
    "    # Calculate price bounds\n",
    "    df_est=pd.DataFrame()\n",
    "    df_est.rename_axis(index='Datetime')\n",
    "    df_est['Datetime']=df.index\n",
    "    df_est.set_index('Datetime',inplace=True)\n",
    "    for item in df.columns:\n",
    "        fit_obj=df_lin.loc['fit_obj',item]\n",
    "        for datetime in df_est.index:\n",
    "            est=fit_obj.predict(np.array(datetime.value).reshape(-1,1))\n",
    "            df_est.loc[datetime,'{}'.format(item)]=est\n",
    "    for item in df.columns:\n",
    "        df_diff=df[item]-df_est[item]\n",
    "        bounds=3*df_diff.std()\n",
    "        df_lin.loc['bound',item]=bounds\n",
    "        \n",
    "    return df_lin"
   ]
  },
  {
   "cell_type": "markdown",
   "metadata": {},
   "source": [
    "Convert rise and fall from % to price (using price change= percent change/100*start price) and display.<br>"
   ]
  },
  {
   "cell_type": "code",
   "execution_count": 18,
   "metadata": {},
   "outputs": [
    {
     "name": "stderr",
     "output_type": "stream",
     "text": [
      "/home/jupyterlab/conda/envs/python/lib/python3.6/site-packages/pandas/core/frame.py:4174: SettingWithCopyWarning: \n",
      "A value is trying to be set on a copy of a slice from a DataFrame\n",
      "\n",
      "See the caveats in the documentation: https://pandas.pydata.org/pandas-docs/stable/user_guide/indexing.html#returning-a-view-versus-a-copy\n",
      "  errors=errors,\n",
      "/home/jupyterlab/conda/envs/python/lib/python3.6/site-packages/ipykernel_launcher.py:21: SettingWithCopyWarning: \n",
      "A value is trying to be set on a copy of a slice from a DataFrame\n",
      "\n",
      "See the caveats in the documentation: https://pandas.pydata.org/pandas-docs/stable/user_guide/indexing.html#returning-a-view-versus-a-copy\n"
     ]
    },
    {
     "data": {
      "text/html": [
       "<div>\n",
       "<style scoped>\n",
       "    .dataframe tbody tr th:only-of-type {\n",
       "        vertical-align: middle;\n",
       "    }\n",
       "\n",
       "    .dataframe tbody tr th {\n",
       "        vertical-align: top;\n",
       "    }\n",
       "\n",
       "    .dataframe thead th {\n",
       "        text-align: right;\n",
       "    }\n",
       "</style>\n",
       "<table border=\"1\" class=\"dataframe\">\n",
       "  <thead>\n",
       "    <tr style=\"text-align: right;\">\n",
       "      <th></th>\n",
       "      <th>BTC-USD</th>\n",
       "      <th>ETH</th>\n",
       "      <th>DOGE-USD</th>\n",
       "    </tr>\n",
       "  </thead>\n",
       "  <tbody>\n",
       "    <tr>\n",
       "      <th>fit_obj</th>\n",
       "      <td>LinearRegression(copy_X=True, fit_intercept=Tr...</td>\n",
       "      <td>LinearRegression(copy_X=True, fit_intercept=Tr...</td>\n",
       "      <td>LinearRegression(copy_X=True, fit_intercept=Tr...</td>\n",
       "    </tr>\n",
       "    <tr>\n",
       "      <th>score</th>\n",
       "      <td>0.827838</td>\n",
       "      <td>0.939647</td>\n",
       "      <td>0.474935</td>\n",
       "    </tr>\n",
       "    <tr>\n",
       "      <th>bound</th>\n",
       "      <td>142.661</td>\n",
       "      <td>23.7738</td>\n",
       "      <td>1216.7</td>\n",
       "    </tr>\n",
       "    <tr>\n",
       "      <th>price_bounds</th>\n",
       "      <td>16768.4</td>\n",
       "      <td>3.07642</td>\n",
       "      <td>0.0427062</td>\n",
       "    </tr>\n",
       "  </tbody>\n",
       "</table>\n",
       "</div>"
      ],
      "text/plain": [
       "                                                        BTC-USD  \\\n",
       "fit_obj       LinearRegression(copy_X=True, fit_intercept=Tr...   \n",
       "score                                                  0.827838   \n",
       "bound                                                   142.661   \n",
       "price_bounds                                            16768.4   \n",
       "\n",
       "                                                            ETH  \\\n",
       "fit_obj       LinearRegression(copy_X=True, fit_intercept=Tr...   \n",
       "score                                                  0.939647   \n",
       "bound                                                   23.7738   \n",
       "price_bounds                                            3.07642   \n",
       "\n",
       "                                                       DOGE-USD  \n",
       "fit_obj       LinearRegression(copy_X=True, fit_intercept=Tr...  \n",
       "score                                                  0.474935  \n",
       "bound                                                    1216.7  \n",
       "price_bounds                                          0.0427062  "
      ]
     },
     "execution_count": 18,
     "metadata": {},
     "output_type": "execute_result"
    }
   ],
   "source": [
    "# Call lin_obj(...) to create the price estimation object dataframe\n",
    "df_norm_price_est_obj=lin_obj(df_norm)\n",
    "df_price_bounds_dict={}\n",
    "for item in df_norm.columns:\n",
    "    df_price_bounds_dict[item]=df_norm_price_est_obj.loc['bound',item]*df_start.loc['start_price',item]/100\n",
    "df_price_bounds=pd.DataFrame(df_price_bounds_dict,index=['price_bounds'])\n",
    "df_norm_price_est_obj=df_norm_price_est_obj.append(df_price_bounds)\n",
    "df_norm_price_est_obj"
   ]
  },
  {
   "cell_type": "markdown",
   "metadata": {},
   "source": [
    "### Estimate the price and bounds vs. date using the fit object"
   ]
  },
  {
   "cell_type": "code",
   "execution_count": 19,
   "metadata": {},
   "outputs": [],
   "source": [
    "# Function to estimate the price given the price dataframe, fit objects and datetime query\n",
    "def price_est(df,df_norm_price_est_obj,df_strt,datetime_query):\n",
    "    df_price_est=pd.DataFrame()\n",
    "    df_price_est.rename_axis(index='Datetime')\n",
    "    df_price_est['Datetime']=pd.to_datetime(datetime_query)\n",
    "    df_price_est.set_index('Datetime',inplace=True)\n",
    "    for item in df.columns:\n",
    "        fit_obj=df_norm_price_est_obj.loc['fit_obj',item]\n",
    "        for datetime in df_price_est.index:\n",
    "            norm_price_est=fit_obj.predict(np.array(datetime.value).reshape(-1,1))\n",
    "            price_est=norm_price_est*df_strt.loc['start_price',item]/100+df_strt.loc['start_price',item]\n",
    "            df_price_est.loc[datetime,'{}'.format(item)]=price_est\n",
    "            df_price_est.loc[datetime,'{}_low'.format(item)]=price_est-(df_norm_price_est_obj.loc['price_bounds',item])\n",
    "            df_price_est.loc[datetime,'{}_high'.format(item)]=price_est+(df_norm_price_est_obj.loc['price_bounds',item])\n",
    "            df_price_est.loc[datetime,'{}_lo_mid'.format(item)]=df_price_est.loc[datetime,['{}'.format(item),\n",
    "                                                                                         '{}_low'.format(item)]].mean()\n",
    "            df_price_est.loc[datetime,'{}_hi_mid'.format(item)]=df_price_est.loc[datetime,['{}'.format(item),\n",
    "                                                                                         '{}_high'.format(item)]].mean()\n",
    "            df_price_est.loc[datetime,'{}_lo_ratio'.format(item)]=df_price_est.loc[datetime,'{}_low'.format(item)]/price_est\n",
    "    df_price_est.reindex(df_price_est.index.date)\n",
    "    df_price_est=df_price_est\n",
    "    return df_price_est\n"
   ]
  },
  {
   "cell_type": "markdown",
   "metadata": {},
   "source": [
    "## What is the predicted share price?"
   ]
  },
  {
   "cell_type": "code",
   "execution_count": 20,
   "metadata": {},
   "outputs": [
    {
     "data": {
      "text/html": [
       "<style  type=\"text/css\" >\n",
       "#T_74a80d9e_7f16_11eb_b0d6_a214b1bd4a2frow0_col0{\n",
       "            background-color:  #056aa6;\n",
       "            color:  #f1f1f1;\n",
       "        }#T_74a80d9e_7f16_11eb_b0d6_a214b1bd4a2frow0_col1{\n",
       "            background-color:  #549cc7;\n",
       "            color:  #000000;\n",
       "        }#T_74a80d9e_7f16_11eb_b0d6_a214b1bd4a2frow0_col2{\n",
       "            background-color:  #023858;\n",
       "            color:  #f1f1f1;\n",
       "        }#T_74a80d9e_7f16_11eb_b0d6_a214b1bd4a2frow0_col3{\n",
       "            background-color:  #2383ba;\n",
       "            color:  #000000;\n",
       "        }#T_74a80d9e_7f16_11eb_b0d6_a214b1bd4a2frow0_col4{\n",
       "            background-color:  #045585;\n",
       "            color:  #f1f1f1;\n",
       "        }#T_74a80d9e_7f16_11eb_b0d6_a214b1bd4a2frow0_col5,#T_74a80d9e_7f16_11eb_b0d6_a214b1bd4a2frow0_col6,#T_74a80d9e_7f16_11eb_b0d6_a214b1bd4a2frow0_col7,#T_74a80d9e_7f16_11eb_b0d6_a214b1bd4a2frow0_col8,#T_74a80d9e_7f16_11eb_b0d6_a214b1bd4a2frow0_col9,#T_74a80d9e_7f16_11eb_b0d6_a214b1bd4a2frow0_col10,#T_74a80d9e_7f16_11eb_b0d6_a214b1bd4a2frow0_col11,#T_74a80d9e_7f16_11eb_b0d6_a214b1bd4a2frow0_col12,#T_74a80d9e_7f16_11eb_b0d6_a214b1bd4a2frow0_col13,#T_74a80d9e_7f16_11eb_b0d6_a214b1bd4a2frow0_col14,#T_74a80d9e_7f16_11eb_b0d6_a214b1bd4a2frow0_col15,#T_74a80d9e_7f16_11eb_b0d6_a214b1bd4a2frow0_col16,#T_74a80d9e_7f16_11eb_b0d6_a214b1bd4a2frow0_col17{\n",
       "            background-color:  #fff7fb;\n",
       "            color:  #000000;\n",
       "        }</style><table id=\"T_74a80d9e_7f16_11eb_b0d6_a214b1bd4a2f\" ><thead>    <tr>        <th class=\"blank level0\" ></th>        <th class=\"col_heading level0 col0\" >BTC-USD</th>        <th class=\"col_heading level0 col1\" >BTC-USD_low</th>        <th class=\"col_heading level0 col2\" >BTC-USD_high</th>        <th class=\"col_heading level0 col3\" >BTC-USD_lo_mid</th>        <th class=\"col_heading level0 col4\" >BTC-USD_hi_mid</th>        <th class=\"col_heading level0 col5\" >BTC-USD_lo_ratio</th>        <th class=\"col_heading level0 col6\" >ETH</th>        <th class=\"col_heading level0 col7\" >ETH_low</th>        <th class=\"col_heading level0 col8\" >ETH_high</th>        <th class=\"col_heading level0 col9\" >ETH_lo_mid</th>        <th class=\"col_heading level0 col10\" >ETH_hi_mid</th>        <th class=\"col_heading level0 col11\" >ETH_lo_ratio</th>        <th class=\"col_heading level0 col12\" >DOGE-USD</th>        <th class=\"col_heading level0 col13\" >DOGE-USD_low</th>        <th class=\"col_heading level0 col14\" >DOGE-USD_high</th>        <th class=\"col_heading level0 col15\" >DOGE-USD_lo_mid</th>        <th class=\"col_heading level0 col16\" >DOGE-USD_hi_mid</th>        <th class=\"col_heading level0 col17\" >DOGE-USD_lo_ratio</th>    </tr>    <tr>        <th class=\"index_name level0\" >Datetime</th>        <th class=\"blank\" ></th>        <th class=\"blank\" ></th>        <th class=\"blank\" ></th>        <th class=\"blank\" ></th>        <th class=\"blank\" ></th>        <th class=\"blank\" ></th>        <th class=\"blank\" ></th>        <th class=\"blank\" ></th>        <th class=\"blank\" ></th>        <th class=\"blank\" ></th>        <th class=\"blank\" ></th>        <th class=\"blank\" ></th>        <th class=\"blank\" ></th>        <th class=\"blank\" ></th>        <th class=\"blank\" ></th>        <th class=\"blank\" ></th>        <th class=\"blank\" ></th>        <th class=\"blank\" ></th>    </tr></thead><tbody>\n",
       "                <tr>\n",
       "                        <th id=\"T_74a80d9e_7f16_11eb_b0d6_a214b1bd4a2flevel0_row0\" class=\"row_heading level0 row0\" >2021-05-28 00:00:00</th>\n",
       "                        <td id=\"T_74a80d9e_7f16_11eb_b0d6_a214b1bd4a2frow0_col0\" class=\"data row0 col0\" >60572.9</td>\n",
       "                        <td id=\"T_74a80d9e_7f16_11eb_b0d6_a214b1bd4a2frow0_col1\" class=\"data row0 col1\" >43804.5</td>\n",
       "                        <td id=\"T_74a80d9e_7f16_11eb_b0d6_a214b1bd4a2frow0_col2\" class=\"data row0 col2\" >77341.4</td>\n",
       "                        <td id=\"T_74a80d9e_7f16_11eb_b0d6_a214b1bd4a2frow0_col3\" class=\"data row0 col3\" >52188.7</td>\n",
       "                        <td id=\"T_74a80d9e_7f16_11eb_b0d6_a214b1bd4a2frow0_col4\" class=\"data row0 col4\" >68957.1</td>\n",
       "                        <td id=\"T_74a80d9e_7f16_11eb_b0d6_a214b1bd4a2frow0_col5\" class=\"data row0 col5\" >0.7</td>\n",
       "                        <td id=\"T_74a80d9e_7f16_11eb_b0d6_a214b1bd4a2frow0_col6\" class=\"data row0 col6\" >30.9</td>\n",
       "                        <td id=\"T_74a80d9e_7f16_11eb_b0d6_a214b1bd4a2frow0_col7\" class=\"data row0 col7\" >27.9</td>\n",
       "                        <td id=\"T_74a80d9e_7f16_11eb_b0d6_a214b1bd4a2frow0_col8\" class=\"data row0 col8\" >34.0</td>\n",
       "                        <td id=\"T_74a80d9e_7f16_11eb_b0d6_a214b1bd4a2frow0_col9\" class=\"data row0 col9\" >29.4</td>\n",
       "                        <td id=\"T_74a80d9e_7f16_11eb_b0d6_a214b1bd4a2frow0_col10\" class=\"data row0 col10\" >32.5</td>\n",
       "                        <td id=\"T_74a80d9e_7f16_11eb_b0d6_a214b1bd4a2frow0_col11\" class=\"data row0 col11\" >0.9</td>\n",
       "                        <td id=\"T_74a80d9e_7f16_11eb_b0d6_a214b1bd4a2frow0_col12\" class=\"data row0 col12\" >0.1</td>\n",
       "                        <td id=\"T_74a80d9e_7f16_11eb_b0d6_a214b1bd4a2frow0_col13\" class=\"data row0 col13\" >0.0</td>\n",
       "                        <td id=\"T_74a80d9e_7f16_11eb_b0d6_a214b1bd4a2frow0_col14\" class=\"data row0 col14\" >0.1</td>\n",
       "                        <td id=\"T_74a80d9e_7f16_11eb_b0d6_a214b1bd4a2frow0_col15\" class=\"data row0 col15\" >0.0</td>\n",
       "                        <td id=\"T_74a80d9e_7f16_11eb_b0d6_a214b1bd4a2frow0_col16\" class=\"data row0 col16\" >0.1</td>\n",
       "                        <td id=\"T_74a80d9e_7f16_11eb_b0d6_a214b1bd4a2frow0_col17\" class=\"data row0 col17\" >0.2</td>\n",
       "            </tr>\n",
       "    </tbody></table>"
      ],
      "text/plain": [
       "<pandas.io.formats.style.Styler at 0x7f6226641278>"
      ]
     },
     "execution_count": 20,
     "metadata": {},
     "output_type": "execute_result"
    }
   ],
   "source": [
    "df_price_est=price_est(df_price,df_norm_price_est_obj,df_start,datetime_query)\n",
    "df_price_est.style.background_gradient(axis=1).format(\"{:.1f}\")"
   ]
  },
  {
   "cell_type": "markdown",
   "metadata": {},
   "source": [
    "## What kind of volatility do the listings have?"
   ]
  },
  {
   "cell_type": "markdown",
   "metadata": {},
   "source": [
    "## How do we generate our investment portfolio?"
   ]
  },
  {
   "cell_type": "markdown",
   "metadata": {},
   "source": [
    "### Estimate the price history along with the bounds and plot the history and estimates for each listing"
   ]
  },
  {
   "cell_type": "code",
   "execution_count": 21,
   "metadata": {},
   "outputs": [],
   "source": [
    "# Datetime history query values\n",
    "datetime_query_start_end=pd.date_range(start=start,end=end)"
   ]
  },
  {
   "cell_type": "code",
   "execution_count": 22,
   "metadata": {},
   "outputs": [
    {
     "data": {
      "text/html": [
       "<style  type=\"text/css\" >\n",
       "</style><table id=\"T_7a8b6a1c_7f16_11eb_b0d6_a214b1bd4a2f\" ><thead>    <tr>        <th class=\"blank level0\" ></th>        <th class=\"col_heading level0 col0\" >BTC-USD</th>        <th class=\"col_heading level0 col1\" >BTC-USD_low</th>        <th class=\"col_heading level0 col2\" >BTC-USD_high</th>        <th class=\"col_heading level0 col3\" >BTC-USD_lo_mid</th>        <th class=\"col_heading level0 col4\" >BTC-USD_hi_mid</th>        <th class=\"col_heading level0 col5\" >BTC-USD_lo_ratio</th>        <th class=\"col_heading level0 col6\" >ETH</th>        <th class=\"col_heading level0 col7\" >ETH_low</th>        <th class=\"col_heading level0 col8\" >ETH_high</th>        <th class=\"col_heading level0 col9\" >ETH_lo_mid</th>        <th class=\"col_heading level0 col10\" >ETH_hi_mid</th>        <th class=\"col_heading level0 col11\" >ETH_lo_ratio</th>        <th class=\"col_heading level0 col12\" >DOGE-USD</th>        <th class=\"col_heading level0 col13\" >DOGE-USD_low</th>        <th class=\"col_heading level0 col14\" >DOGE-USD_high</th>        <th class=\"col_heading level0 col15\" >DOGE-USD_lo_mid</th>        <th class=\"col_heading level0 col16\" >DOGE-USD_hi_mid</th>        <th class=\"col_heading level0 col17\" >DOGE-USD_lo_ratio</th>    </tr>    <tr>        <th class=\"index_name level0\" >Datetime</th>        <th class=\"blank\" ></th>        <th class=\"blank\" ></th>        <th class=\"blank\" ></th>        <th class=\"blank\" ></th>        <th class=\"blank\" ></th>        <th class=\"blank\" ></th>        <th class=\"blank\" ></th>        <th class=\"blank\" ></th>        <th class=\"blank\" ></th>        <th class=\"blank\" ></th>        <th class=\"blank\" ></th>        <th class=\"blank\" ></th>        <th class=\"blank\" ></th>        <th class=\"blank\" ></th>        <th class=\"blank\" ></th>        <th class=\"blank\" ></th>        <th class=\"blank\" ></th>        <th class=\"blank\" ></th>    </tr></thead><tbody>\n",
       "                <tr>\n",
       "                        <th id=\"T_7a8b6a1c_7f16_11eb_b0d6_a214b1bd4a2flevel0_row0\" class=\"row_heading level0 row0\" >2020-08-08 00:00:00</th>\n",
       "                        <td id=\"T_7a8b6a1c_7f16_11eb_b0d6_a214b1bd4a2frow0_col0\" class=\"data row0 col0\" >1753</td>\n",
       "                        <td id=\"T_7a8b6a1c_7f16_11eb_b0d6_a214b1bd4a2frow0_col1\" class=\"data row0 col1\" >-15015</td>\n",
       "                        <td id=\"T_7a8b6a1c_7f16_11eb_b0d6_a214b1bd4a2frow0_col2\" class=\"data row0 col2\" >18521</td>\n",
       "                        <td id=\"T_7a8b6a1c_7f16_11eb_b0d6_a214b1bd4a2frow0_col3\" class=\"data row0 col3\" >-6631</td>\n",
       "                        <td id=\"T_7a8b6a1c_7f16_11eb_b0d6_a214b1bd4a2frow0_col4\" class=\"data row0 col4\" >10137</td>\n",
       "                        <td id=\"T_7a8b6a1c_7f16_11eb_b0d6_a214b1bd4a2frow0_col5\" class=\"data row0 col5\" >-9</td>\n",
       "                        <td id=\"T_7a8b6a1c_7f16_11eb_b0d6_a214b1bd4a2frow0_col6\" class=\"data row0 col6\" >12</td>\n",
       "                        <td id=\"T_7a8b6a1c_7f16_11eb_b0d6_a214b1bd4a2frow0_col7\" class=\"data row0 col7\" >8</td>\n",
       "                        <td id=\"T_7a8b6a1c_7f16_11eb_b0d6_a214b1bd4a2frow0_col8\" class=\"data row0 col8\" >15</td>\n",
       "                        <td id=\"T_7a8b6a1c_7f16_11eb_b0d6_a214b1bd4a2frow0_col9\" class=\"data row0 col9\" >10</td>\n",
       "                        <td id=\"T_7a8b6a1c_7f16_11eb_b0d6_a214b1bd4a2frow0_col10\" class=\"data row0 col10\" >13</td>\n",
       "                        <td id=\"T_7a8b6a1c_7f16_11eb_b0d6_a214b1bd4a2frow0_col11\" class=\"data row0 col11\" >1</td>\n",
       "                        <td id=\"T_7a8b6a1c_7f16_11eb_b0d6_a214b1bd4a2frow0_col12\" class=\"data row0 col12\" >-0</td>\n",
       "                        <td id=\"T_7a8b6a1c_7f16_11eb_b0d6_a214b1bd4a2frow0_col13\" class=\"data row0 col13\" >-0</td>\n",
       "                        <td id=\"T_7a8b6a1c_7f16_11eb_b0d6_a214b1bd4a2frow0_col14\" class=\"data row0 col14\" >0</td>\n",
       "                        <td id=\"T_7a8b6a1c_7f16_11eb_b0d6_a214b1bd4a2frow0_col15\" class=\"data row0 col15\" >-0</td>\n",
       "                        <td id=\"T_7a8b6a1c_7f16_11eb_b0d6_a214b1bd4a2frow0_col16\" class=\"data row0 col16\" >0</td>\n",
       "                        <td id=\"T_7a8b6a1c_7f16_11eb_b0d6_a214b1bd4a2frow0_col17\" class=\"data row0 col17\" >5</td>\n",
       "            </tr>\n",
       "            <tr>\n",
       "                        <th id=\"T_7a8b6a1c_7f16_11eb_b0d6_a214b1bd4a2flevel0_row1\" class=\"row_heading level0 row1\" >2020-08-09 00:00:00</th>\n",
       "                        <td id=\"T_7a8b6a1c_7f16_11eb_b0d6_a214b1bd4a2frow1_col0\" class=\"data row1 col0\" >1954</td>\n",
       "                        <td id=\"T_7a8b6a1c_7f16_11eb_b0d6_a214b1bd4a2frow1_col1\" class=\"data row1 col1\" >-14815</td>\n",
       "                        <td id=\"T_7a8b6a1c_7f16_11eb_b0d6_a214b1bd4a2frow1_col2\" class=\"data row1 col2\" >18722</td>\n",
       "                        <td id=\"T_7a8b6a1c_7f16_11eb_b0d6_a214b1bd4a2frow1_col3\" class=\"data row1 col3\" >-6430</td>\n",
       "                        <td id=\"T_7a8b6a1c_7f16_11eb_b0d6_a214b1bd4a2frow1_col4\" class=\"data row1 col4\" >10338</td>\n",
       "                        <td id=\"T_7a8b6a1c_7f16_11eb_b0d6_a214b1bd4a2frow1_col5\" class=\"data row1 col5\" >-8</td>\n",
       "                        <td id=\"T_7a8b6a1c_7f16_11eb_b0d6_a214b1bd4a2frow1_col6\" class=\"data row1 col6\" >12</td>\n",
       "                        <td id=\"T_7a8b6a1c_7f16_11eb_b0d6_a214b1bd4a2frow1_col7\" class=\"data row1 col7\" >9</td>\n",
       "                        <td id=\"T_7a8b6a1c_7f16_11eb_b0d6_a214b1bd4a2frow1_col8\" class=\"data row1 col8\" >15</td>\n",
       "                        <td id=\"T_7a8b6a1c_7f16_11eb_b0d6_a214b1bd4a2frow1_col9\" class=\"data row1 col9\" >10</td>\n",
       "                        <td id=\"T_7a8b6a1c_7f16_11eb_b0d6_a214b1bd4a2frow1_col10\" class=\"data row1 col10\" >13</td>\n",
       "                        <td id=\"T_7a8b6a1c_7f16_11eb_b0d6_a214b1bd4a2frow1_col11\" class=\"data row1 col11\" >1</td>\n",
       "                        <td id=\"T_7a8b6a1c_7f16_11eb_b0d6_a214b1bd4a2frow1_col12\" class=\"data row1 col12\" >-0</td>\n",
       "                        <td id=\"T_7a8b6a1c_7f16_11eb_b0d6_a214b1bd4a2frow1_col13\" class=\"data row1 col13\" >-0</td>\n",
       "                        <td id=\"T_7a8b6a1c_7f16_11eb_b0d6_a214b1bd4a2frow1_col14\" class=\"data row1 col14\" >0</td>\n",
       "                        <td id=\"T_7a8b6a1c_7f16_11eb_b0d6_a214b1bd4a2frow1_col15\" class=\"data row1 col15\" >-0</td>\n",
       "                        <td id=\"T_7a8b6a1c_7f16_11eb_b0d6_a214b1bd4a2frow1_col16\" class=\"data row1 col16\" >0</td>\n",
       "                        <td id=\"T_7a8b6a1c_7f16_11eb_b0d6_a214b1bd4a2frow1_col17\" class=\"data row1 col17\" >5</td>\n",
       "            </tr>\n",
       "            <tr>\n",
       "                        <th id=\"T_7a8b6a1c_7f16_11eb_b0d6_a214b1bd4a2flevel0_row2\" class=\"row_heading level0 row2\" >2020-08-10 00:00:00</th>\n",
       "                        <td id=\"T_7a8b6a1c_7f16_11eb_b0d6_a214b1bd4a2frow2_col0\" class=\"data row2 col0\" >2155</td>\n",
       "                        <td id=\"T_7a8b6a1c_7f16_11eb_b0d6_a214b1bd4a2frow2_col1\" class=\"data row2 col1\" >-14614</td>\n",
       "                        <td id=\"T_7a8b6a1c_7f16_11eb_b0d6_a214b1bd4a2frow2_col2\" class=\"data row2 col2\" >18923</td>\n",
       "                        <td id=\"T_7a8b6a1c_7f16_11eb_b0d6_a214b1bd4a2frow2_col3\" class=\"data row2 col3\" >-6230</td>\n",
       "                        <td id=\"T_7a8b6a1c_7f16_11eb_b0d6_a214b1bd4a2frow2_col4\" class=\"data row2 col4\" >10539</td>\n",
       "                        <td id=\"T_7a8b6a1c_7f16_11eb_b0d6_a214b1bd4a2frow2_col5\" class=\"data row2 col5\" >-7</td>\n",
       "                        <td id=\"T_7a8b6a1c_7f16_11eb_b0d6_a214b1bd4a2frow2_col6\" class=\"data row2 col6\" >12</td>\n",
       "                        <td id=\"T_7a8b6a1c_7f16_11eb_b0d6_a214b1bd4a2frow2_col7\" class=\"data row2 col7\" >9</td>\n",
       "                        <td id=\"T_7a8b6a1c_7f16_11eb_b0d6_a214b1bd4a2frow2_col8\" class=\"data row2 col8\" >15</td>\n",
       "                        <td id=\"T_7a8b6a1c_7f16_11eb_b0d6_a214b1bd4a2frow2_col9\" class=\"data row2 col9\" >10</td>\n",
       "                        <td id=\"T_7a8b6a1c_7f16_11eb_b0d6_a214b1bd4a2frow2_col10\" class=\"data row2 col10\" >13</td>\n",
       "                        <td id=\"T_7a8b6a1c_7f16_11eb_b0d6_a214b1bd4a2frow2_col11\" class=\"data row2 col11\" >1</td>\n",
       "                        <td id=\"T_7a8b6a1c_7f16_11eb_b0d6_a214b1bd4a2frow2_col12\" class=\"data row2 col12\" >-0</td>\n",
       "                        <td id=\"T_7a8b6a1c_7f16_11eb_b0d6_a214b1bd4a2frow2_col13\" class=\"data row2 col13\" >-0</td>\n",
       "                        <td id=\"T_7a8b6a1c_7f16_11eb_b0d6_a214b1bd4a2frow2_col14\" class=\"data row2 col14\" >0</td>\n",
       "                        <td id=\"T_7a8b6a1c_7f16_11eb_b0d6_a214b1bd4a2frow2_col15\" class=\"data row2 col15\" >-0</td>\n",
       "                        <td id=\"T_7a8b6a1c_7f16_11eb_b0d6_a214b1bd4a2frow2_col16\" class=\"data row2 col16\" >0</td>\n",
       "                        <td id=\"T_7a8b6a1c_7f16_11eb_b0d6_a214b1bd4a2frow2_col17\" class=\"data row2 col17\" >5</td>\n",
       "            </tr>\n",
       "            <tr>\n",
       "                        <th id=\"T_7a8b6a1c_7f16_11eb_b0d6_a214b1bd4a2flevel0_row3\" class=\"row_heading level0 row3\" >2020-08-11 00:00:00</th>\n",
       "                        <td id=\"T_7a8b6a1c_7f16_11eb_b0d6_a214b1bd4a2frow3_col0\" class=\"data row3 col0\" >2355</td>\n",
       "                        <td id=\"T_7a8b6a1c_7f16_11eb_b0d6_a214b1bd4a2frow3_col1\" class=\"data row3 col1\" >-14413</td>\n",
       "                        <td id=\"T_7a8b6a1c_7f16_11eb_b0d6_a214b1bd4a2frow3_col2\" class=\"data row3 col2\" >19124</td>\n",
       "                        <td id=\"T_7a8b6a1c_7f16_11eb_b0d6_a214b1bd4a2frow3_col3\" class=\"data row3 col3\" >-6029</td>\n",
       "                        <td id=\"T_7a8b6a1c_7f16_11eb_b0d6_a214b1bd4a2frow3_col4\" class=\"data row3 col4\" >10740</td>\n",
       "                        <td id=\"T_7a8b6a1c_7f16_11eb_b0d6_a214b1bd4a2frow3_col5\" class=\"data row3 col5\" >-6</td>\n",
       "                        <td id=\"T_7a8b6a1c_7f16_11eb_b0d6_a214b1bd4a2frow3_col6\" class=\"data row3 col6\" >12</td>\n",
       "                        <td id=\"T_7a8b6a1c_7f16_11eb_b0d6_a214b1bd4a2frow3_col7\" class=\"data row3 col7\" >9</td>\n",
       "                        <td id=\"T_7a8b6a1c_7f16_11eb_b0d6_a214b1bd4a2frow3_col8\" class=\"data row3 col8\" >15</td>\n",
       "                        <td id=\"T_7a8b6a1c_7f16_11eb_b0d6_a214b1bd4a2frow3_col9\" class=\"data row3 col9\" >10</td>\n",
       "                        <td id=\"T_7a8b6a1c_7f16_11eb_b0d6_a214b1bd4a2frow3_col10\" class=\"data row3 col10\" >13</td>\n",
       "                        <td id=\"T_7a8b6a1c_7f16_11eb_b0d6_a214b1bd4a2frow3_col11\" class=\"data row3 col11\" >1</td>\n",
       "                        <td id=\"T_7a8b6a1c_7f16_11eb_b0d6_a214b1bd4a2frow3_col12\" class=\"data row3 col12\" >-0</td>\n",
       "                        <td id=\"T_7a8b6a1c_7f16_11eb_b0d6_a214b1bd4a2frow3_col13\" class=\"data row3 col13\" >-0</td>\n",
       "                        <td id=\"T_7a8b6a1c_7f16_11eb_b0d6_a214b1bd4a2frow3_col14\" class=\"data row3 col14\" >0</td>\n",
       "                        <td id=\"T_7a8b6a1c_7f16_11eb_b0d6_a214b1bd4a2frow3_col15\" class=\"data row3 col15\" >-0</td>\n",
       "                        <td id=\"T_7a8b6a1c_7f16_11eb_b0d6_a214b1bd4a2frow3_col16\" class=\"data row3 col16\" >0</td>\n",
       "                        <td id=\"T_7a8b6a1c_7f16_11eb_b0d6_a214b1bd4a2frow3_col17\" class=\"data row3 col17\" >5</td>\n",
       "            </tr>\n",
       "            <tr>\n",
       "                        <th id=\"T_7a8b6a1c_7f16_11eb_b0d6_a214b1bd4a2flevel0_row4\" class=\"row_heading level0 row4\" >2020-08-12 00:00:00</th>\n",
       "                        <td id=\"T_7a8b6a1c_7f16_11eb_b0d6_a214b1bd4a2frow4_col0\" class=\"data row4 col0\" >2556</td>\n",
       "                        <td id=\"T_7a8b6a1c_7f16_11eb_b0d6_a214b1bd4a2frow4_col1\" class=\"data row4 col1\" >-14212</td>\n",
       "                        <td id=\"T_7a8b6a1c_7f16_11eb_b0d6_a214b1bd4a2frow4_col2\" class=\"data row4 col2\" >19324</td>\n",
       "                        <td id=\"T_7a8b6a1c_7f16_11eb_b0d6_a214b1bd4a2frow4_col3\" class=\"data row4 col3\" >-5828</td>\n",
       "                        <td id=\"T_7a8b6a1c_7f16_11eb_b0d6_a214b1bd4a2frow4_col4\" class=\"data row4 col4\" >10940</td>\n",
       "                        <td id=\"T_7a8b6a1c_7f16_11eb_b0d6_a214b1bd4a2frow4_col5\" class=\"data row4 col5\" >-6</td>\n",
       "                        <td id=\"T_7a8b6a1c_7f16_11eb_b0d6_a214b1bd4a2frow4_col6\" class=\"data row4 col6\" >12</td>\n",
       "                        <td id=\"T_7a8b6a1c_7f16_11eb_b0d6_a214b1bd4a2frow4_col7\" class=\"data row4 col7\" >9</td>\n",
       "                        <td id=\"T_7a8b6a1c_7f16_11eb_b0d6_a214b1bd4a2frow4_col8\" class=\"data row4 col8\" >15</td>\n",
       "                        <td id=\"T_7a8b6a1c_7f16_11eb_b0d6_a214b1bd4a2frow4_col9\" class=\"data row4 col9\" >10</td>\n",
       "                        <td id=\"T_7a8b6a1c_7f16_11eb_b0d6_a214b1bd4a2frow4_col10\" class=\"data row4 col10\" >13</td>\n",
       "                        <td id=\"T_7a8b6a1c_7f16_11eb_b0d6_a214b1bd4a2frow4_col11\" class=\"data row4 col11\" >1</td>\n",
       "                        <td id=\"T_7a8b6a1c_7f16_11eb_b0d6_a214b1bd4a2frow4_col12\" class=\"data row4 col12\" >-0</td>\n",
       "                        <td id=\"T_7a8b6a1c_7f16_11eb_b0d6_a214b1bd4a2frow4_col13\" class=\"data row4 col13\" >-0</td>\n",
       "                        <td id=\"T_7a8b6a1c_7f16_11eb_b0d6_a214b1bd4a2frow4_col14\" class=\"data row4 col14\" >0</td>\n",
       "                        <td id=\"T_7a8b6a1c_7f16_11eb_b0d6_a214b1bd4a2frow4_col15\" class=\"data row4 col15\" >-0</td>\n",
       "                        <td id=\"T_7a8b6a1c_7f16_11eb_b0d6_a214b1bd4a2frow4_col16\" class=\"data row4 col16\" >0</td>\n",
       "                        <td id=\"T_7a8b6a1c_7f16_11eb_b0d6_a214b1bd4a2frow4_col17\" class=\"data row4 col17\" >5</td>\n",
       "            </tr>\n",
       "    </tbody></table>"
      ],
      "text/plain": [
       "<pandas.io.formats.style.Styler at 0x7f6226550f60>"
      ]
     },
     "execution_count": 22,
     "metadata": {},
     "output_type": "execute_result"
    }
   ],
   "source": [
    "# Generate and display estimates (listing, listing_low, listing_high)\n",
    "df_price_est_start_end=price_est(df_price,df_norm_price_est_obj,df_start,datetime_query_start_end)\n",
    "df_price_est_start_end.head().style.format(\"{:.0f}\")"
   ]
  },
  {
   "cell_type": "code",
   "execution_count": 23,
   "metadata": {},
   "outputs": [
    {
     "data": {
      "image/png": "[encoded data removed]",
      "text/plain": [
       "<Figure size 432x288 with 1 Axes>"
      ]
     },
     "metadata": {
      "needs_background": "light"
     },
     "output_type": "display_data"
    },
    {
     "data": {
      "image/png": "[encoded data removed]",
      "text/plain": [
       "<Figure size 432x288 with 1 Axes>"
      ]
     },
     "metadata": {
      "needs_background": "light"
     },
     "output_type": "display_data"
    },
    {
     "data": {
      "image/png": "[encoded data removed]",
      "text/plain": [
       "<Figure size 432x288 with 1 Axes>"
      ]
     },
     "metadata": {
      "needs_background": "light"
     },
     "output_type": "display_data"
    }
   ],
   "source": [
    "# Plot Open price vs. Time\n",
    "num_plot=len(df.columns)\n",
    "i=1\n",
    "for item in df.columns:\n",
    "    plt.figure()\n",
    "    plt.plot(df_price[item])\n",
    "    plt.plot(df_price_est_start_end[[item,item+'_low',item+'_high',item+'_lo_mid',item+'_hi_mid']])\n",
    "    plt.legend([item,item+'_predicted',item+'_low',item+'_high',item+'_lo_mid',item+'_hi_mid'])\n",
    "    plt.ylabel('Share Price [USD]')\n",
    "    plt.xticks(rotation=45)\n",
    "    plt.grid(True)\n",
    "    plt.title(item)\n",
    "    i=i+1"
   ]
  },
  {
   "cell_type": "markdown",
   "metadata": {},
   "source": [
    "## Constructing the Portfolio"
   ]
  },
  {
   "cell_type": "markdown",
   "metadata": {},
   "source": [
    "In order to balance the investments, we'd want to have the most benefit (reward) while minimizing volatility (risk).<br>\n",
    "1. We can consider 'reward' to be the slope of the linear fit to share price (higher the slope, higher the gain).<br>\n",
    "2. We can consider 'risk' to be the ratio between the price bounds and change in price over the duration of interest <br>\n",
    "3. Hence we can compute a 'returns ratio' = 'reward'/'risk' for each listing; the higher this value, the more this investment is viable. <br>\n",
    "4. Then we can compute the sum of the returns ratios for each listing and divide the returns ratio by the summed value, to determine the \"weight\" of each investment <br>\n",
    "5. Finally we can multiply the \"weight\" by the total investment capital (total_investment) to obtain the recommended investment for each listing <br>    "
   ]
  },
  {
   "cell_type": "markdown",
   "metadata": {},
   "source": [
    "### Use the Linear Regression object to construct the reward, volatility, returns ratio, weight and suggested investment values"
   ]
  },
  {
   "cell_type": "code",
   "execution_count": 24,
   "metadata": {},
   "outputs": [
    {
     "data": {
      "text/html": [
       "<style  type=\"text/css\" >\n",
       "</style><table id=\"T_7d7a5af8_7f16_11eb_b0d6_a214b1bd4a2f\" ><thead>    <tr>        <th class=\"blank level0\" ></th>        <th class=\"col_heading level0 col0\" >ETH</th>        <th class=\"col_heading level0 col1\" >BTC-USD</th>        <th class=\"col_heading level0 col2\" >DOGE-USD</th>    </tr>    <tr>        <th class=\"index_name level0\" >Parameters</th>        <th class=\"blank\" ></th>        <th class=\"blank\" ></th>        <th class=\"blank\" ></th>    </tr></thead><tbody>\n",
       "                <tr>\n",
       "                        <th id=\"T_7d7a5af8_7f16_11eb_b0d6_a214b1bd4a2flevel0_row0\" class=\"row_heading level0 row0\" >reward</th>\n",
       "                        <td id=\"T_7d7a5af8_7f16_11eb_b0d6_a214b1bd4a2frow0_col0\" class=\"data row0 col0\" >592.76</td>\n",
       "                        <td id=\"T_7d7a5af8_7f16_11eb_b0d6_a214b1bd4a2frow0_col1\" class=\"data row0 col1\" >1976.77</td>\n",
       "                        <td id=\"T_7d7a5af8_7f16_11eb_b0d6_a214b1bd4a2frow0_col2\" class=\"data row0 col2\" >7312.08</td>\n",
       "            </tr>\n",
       "            <tr>\n",
       "                        <th id=\"T_7d7a5af8_7f16_11eb_b0d6_a214b1bd4a2flevel0_row1\" class=\"row_heading level0 row1\" >risk</th>\n",
       "                        <td id=\"T_7d7a5af8_7f16_11eb_b0d6_a214b1bd4a2frow1_col0\" class=\"data row1 col0\" >23.77</td>\n",
       "                        <td id=\"T_7d7a5af8_7f16_11eb_b0d6_a214b1bd4a2frow1_col1\" class=\"data row1 col1\" >142.66</td>\n",
       "                        <td id=\"T_7d7a5af8_7f16_11eb_b0d6_a214b1bd4a2frow1_col2\" class=\"data row1 col2\" >1216.70</td>\n",
       "            </tr>\n",
       "            <tr>\n",
       "                        <th id=\"T_7d7a5af8_7f16_11eb_b0d6_a214b1bd4a2flevel0_row2\" class=\"row_heading level0 row2\" >returns_ratio</th>\n",
       "                        <td id=\"T_7d7a5af8_7f16_11eb_b0d6_a214b1bd4a2frow2_col0\" class=\"data row2 col0\" >24.93</td>\n",
       "                        <td id=\"T_7d7a5af8_7f16_11eb_b0d6_a214b1bd4a2frow2_col1\" class=\"data row2 col1\" >13.86</td>\n",
       "                        <td id=\"T_7d7a5af8_7f16_11eb_b0d6_a214b1bd4a2frow2_col2\" class=\"data row2 col2\" >6.01</td>\n",
       "            </tr>\n",
       "            <tr>\n",
       "                        <th id=\"T_7d7a5af8_7f16_11eb_b0d6_a214b1bd4a2flevel0_row3\" class=\"row_heading level0 row3\" >weight</th>\n",
       "                        <td id=\"T_7d7a5af8_7f16_11eb_b0d6_a214b1bd4a2frow3_col0\" class=\"data row3 col0\" >0.56</td>\n",
       "                        <td id=\"T_7d7a5af8_7f16_11eb_b0d6_a214b1bd4a2frow3_col1\" class=\"data row3 col1\" >0.31</td>\n",
       "                        <td id=\"T_7d7a5af8_7f16_11eb_b0d6_a214b1bd4a2frow3_col2\" class=\"data row3 col2\" >0.13</td>\n",
       "            </tr>\n",
       "            <tr>\n",
       "                        <th id=\"T_7d7a5af8_7f16_11eb_b0d6_a214b1bd4a2flevel0_row4\" class=\"row_heading level0 row4\" >price_bound</th>\n",
       "                        <td id=\"T_7d7a5af8_7f16_11eb_b0d6_a214b1bd4a2frow4_col0\" class=\"data row4 col0\" >3.08</td>\n",
       "                        <td id=\"T_7d7a5af8_7f16_11eb_b0d6_a214b1bd4a2frow4_col1\" class=\"data row4 col1\" >16768.44</td>\n",
       "                        <td id=\"T_7d7a5af8_7f16_11eb_b0d6_a214b1bd4a2frow4_col2\" class=\"data row4 col2\" >0.04</td>\n",
       "            </tr>\n",
       "            <tr>\n",
       "                        <th id=\"T_7d7a5af8_7f16_11eb_b0d6_a214b1bd4a2flevel0_row5\" class=\"row_heading level0 row5\" >suggested_investment</th>\n",
       "                        <td id=\"T_7d7a5af8_7f16_11eb_b0d6_a214b1bd4a2frow5_col0\" class=\"data row5 col0\" >1113.66</td>\n",
       "                        <td id=\"T_7d7a5af8_7f16_11eb_b0d6_a214b1bd4a2frow5_col1\" class=\"data row5 col1\" >618.91</td>\n",
       "                        <td id=\"T_7d7a5af8_7f16_11eb_b0d6_a214b1bd4a2frow5_col2\" class=\"data row5 col2\" >268.43</td>\n",
       "            </tr>\n",
       "    </tbody></table>"
      ],
      "text/plain": [
       "<pandas.io.formats.style.Styler at 0x7f62263abe80>"
      ]
     },
     "execution_count": 24,
     "metadata": {},
     "output_type": "execute_result"
    }
   ],
   "source": [
    "# Initialize the portfolio dataframe df_portfolio and update the index suitably\n",
    "df_portfolio=df_norm_price_est_obj\n",
    "df_portfolio=df_portfolio.reindex(['reward','risk','returns_ratio','weight','price_bound','suggested_investment'])\n",
    "df_portfolio=df_portfolio.rename_axis(index='Parameters')\n",
    "\n",
    "# Update \"reward\" using the slope of the line fit (multiplied by a suitable factor for display)\n",
    "for item in (df_portfolio.columns):\n",
    "    df_portfolio.loc['reward',item]=(df_norm_price_est_obj.loc['fit_obj',item].coef_[0])*10**17\n",
    "    \n",
    "# Update the \"volatility\" as the percent price bound\n",
    "for item in (df_portfolio.columns):\n",
    "    df_portfolio.loc['risk',item]=(df_norm_price_est_obj.loc['bound',item])\n",
    "                                         \n",
    "# Update the returns ratio as the ratio between the \"reward\" and \"volatility\"\n",
    "for item in (df_portfolio.columns):\n",
    "    df_portfolio.loc['returns_ratio',item]=(df_portfolio.loc['reward',item]/\n",
    "                                            df_portfolio.loc['risk',item])\n",
    "    \n",
    "# Remove those listings with negative returns_ratio since those imply a falling stock\n",
    "df_price_est_end=price_est(df,df_norm_price_est_obj,df_start,[df.index[-1].strftime('%m/%d/%y')])\n",
    "for item in df_portfolio.columns:\n",
    "    item_low_str=item+'_low'\n",
    "    item_hi_str=item+'_high'\n",
    "    if df_portfolio.loc['returns_ratio',item]<=21 or df[item].iloc[-1]<=df_price_est_end[item_low_str].to_numpy()[0]:\n",
    "        if df_portfolio.loc['reward',item]<=201:\n",
    "            df_portfolio.pop(item)\n",
    "        \n",
    "# Obtain the weighted average of the returns ratio for each listing\n",
    "for item in (df_portfolio.columns):\n",
    "    df_portfolio.loc['weight',item]=df_portfolio.loc['returns_ratio',item]/df_portfolio.loc['returns_ratio',:].sum()\n",
    "    \n",
    "# Update stop loss limit\n",
    "for item in (df_portfolio.columns):\n",
    "    df_portfolio.loc['price_bound',item]=df_norm_price_est_obj.loc['price_bounds',item]\n",
    "    \n",
    "# Multiply the weight of each listing by the total investment capital to obtain the recommended investment\n",
    "for item in (df_portfolio.columns):\n",
    "    df_portfolio.loc['suggested_investment',item]=df_portfolio.loc['weight',item]*total_investment\n",
    "\n",
    "    \n",
    "# Display the portfolio dataframe\n",
    "df_portfolio.sort_values(axis=1,by='weight',ascending=False).style.background_gradient(axis=1).format(\"{:.2f}\")"
   ]
  },
  {
   "cell_type": "code",
   "execution_count": 25,
   "metadata": {},
   "outputs": [
    {
     "data": {
      "image/png": "[encoded data removed]",
      "text/plain": [
       "<Figure size 432x288 with 1 Axes>"
      ]
     },
     "metadata": {},
     "output_type": "display_data"
    }
   ],
   "source": [
    "stock_labels=df_portfolio.columns\n",
    "values=df_portfolio.loc['suggested_investment',:]\n",
    "plt.pie(values, labels=stock_labels,radius=1.5, autopct='%1.0f%%');"
   ]
  },
  {
   "cell_type": "raw",
   "metadata": {},
   "source": [
    "df_portfolio.to_csv('portfolio.csv')"
   ]
  },
  {
   "cell_type": "markdown",
   "metadata": {},
   "source": [
    "### What kind of volatility do the listings have?"
   ]
  },
  {
   "cell_type": "markdown",
   "metadata": {},
   "source": [
    " Refer the \"volatility\" row, higher the value, greater the volatility"
   ]
  },
  {
   "cell_type": "markdown",
   "metadata": {},
   "source": [
    "### How do we use the data to construct our portfolio?"
   ]
  },
  {
   "cell_type": "markdown",
   "metadata": {},
   "source": [
    "Refer the dataframe \"df_portfolio\""
   ]
  },
  {
   "cell_type": "markdown",
   "metadata": {},
   "source": [
    "## Compare with previous"
   ]
  },
  {
   "cell_type": "code",
   "execution_count": 26,
   "metadata": {},
   "outputs": [],
   "source": [
    "df_saved=pd.read_csv('portfolio.csv')\n",
    "df_saved.set_index('Parameters',inplace=True)"
   ]
  },
  {
   "cell_type": "code",
   "execution_count": 27,
   "metadata": {},
   "outputs": [],
   "source": [
    "comm_stocks=list(set(df_saved.columns.tolist()).intersection(set(df_portfolio.columns.tolist())))"
   ]
  },
  {
   "cell_type": "code",
   "execution_count": 28,
   "metadata": {},
   "outputs": [
    {
     "name": "stdout",
     "output_type": "stream",
     "text": [
      "Sum: weight_diff    0.0\n",
      "dtype: float64, Min.: weight_diff   NaN\n",
      "dtype: float64, Max.: weight_diff   NaN\n",
      "dtype: float64\n"
     ]
    },
    {
     "ename": "IndexError",
     "evalue": "index 0 is out of bounds for axis 0 with size 0",
     "output_type": "error",
     "traceback": [
      "\u001b[0;31m---------------------------------------------------------------------------\u001b[0m",
      "\u001b[0;31mIndexError\u001b[0m                                Traceback (most recent call last)",
      "\u001b[0;32m<ipython-input-28-a344773f254b>\u001b[0m in \u001b[0;36m<module>\u001b[0;34m\u001b[0m\n\u001b[1;32m      6\u001b[0m \u001b[0mdf_weight_diff\u001b[0m\u001b[0;34m=\u001b[0m\u001b[0mpd\u001b[0m\u001b[0;34m.\u001b[0m\u001b[0mDataFrame\u001b[0m\u001b[0;34m(\u001b[0m\u001b[0mweight_diff\u001b[0m\u001b[0;34m,\u001b[0m\u001b[0mindex\u001b[0m\u001b[0;34m=\u001b[0m\u001b[0;34m[\u001b[0m\u001b[0;34m'weight_diff'\u001b[0m\u001b[0;34m]\u001b[0m\u001b[0;34m)\u001b[0m\u001b[0;34m\u001b[0m\u001b[0;34m\u001b[0m\u001b[0m\n\u001b[1;32m      7\u001b[0m \u001b[0mprint\u001b[0m\u001b[0;34m(\u001b[0m\u001b[0;34m'Sum: {}, Min.: {}, Max.: {}'\u001b[0m\u001b[0;34m.\u001b[0m\u001b[0mformat\u001b[0m\u001b[0;34m(\u001b[0m\u001b[0mdf_weight_diff\u001b[0m\u001b[0;34m.\u001b[0m\u001b[0msum\u001b[0m\u001b[0;34m(\u001b[0m\u001b[0maxis\u001b[0m\u001b[0;34m=\u001b[0m\u001b[0;36m1\u001b[0m\u001b[0;34m)\u001b[0m\u001b[0;34m,\u001b[0m\u001b[0mdf_weight_diff\u001b[0m\u001b[0;34m.\u001b[0m\u001b[0mmin\u001b[0m\u001b[0;34m(\u001b[0m\u001b[0maxis\u001b[0m\u001b[0;34m=\u001b[0m\u001b[0;36m1\u001b[0m\u001b[0;34m)\u001b[0m\u001b[0;34m,\u001b[0m\u001b[0mdf_weight_diff\u001b[0m\u001b[0;34m.\u001b[0m\u001b[0mmax\u001b[0m\u001b[0;34m(\u001b[0m\u001b[0maxis\u001b[0m\u001b[0;34m=\u001b[0m\u001b[0;36m1\u001b[0m\u001b[0;34m)\u001b[0m\u001b[0;34m)\u001b[0m\u001b[0;34m)\u001b[0m\u001b[0;34m\u001b[0m\u001b[0;34m\u001b[0m\u001b[0m\n\u001b[0;32m----> 8\u001b[0;31m \u001b[0mdf_weight_diff\u001b[0m\u001b[0;34m.\u001b[0m\u001b[0mtranspose\u001b[0m\u001b[0;34m(\u001b[0m\u001b[0;34m)\u001b[0m\u001b[0;34m.\u001b[0m\u001b[0mplot\u001b[0m\u001b[0;34m(\u001b[0m\u001b[0mkind\u001b[0m\u001b[0;34m=\u001b[0m\u001b[0;34m'bar'\u001b[0m\u001b[0;34m)\u001b[0m\u001b[0;34m;\u001b[0m\u001b[0;34m\u001b[0m\u001b[0;34m\u001b[0m\u001b[0m\n\u001b[0m",
      "\u001b[0;32m~/conda/envs/python/lib/python3.6/site-packages/pandas/plotting/_core.py\u001b[0m in \u001b[0;36m__call__\u001b[0;34m(self, *args, **kwargs)\u001b[0m\n\u001b[1;32m    947\u001b[0m                     \u001b[0mdata\u001b[0m\u001b[0;34m.\u001b[0m\u001b[0mcolumns\u001b[0m \u001b[0;34m=\u001b[0m \u001b[0mlabel_name\u001b[0m\u001b[0;34m\u001b[0m\u001b[0;34m\u001b[0m\u001b[0m\n\u001b[1;32m    948\u001b[0m \u001b[0;34m\u001b[0m\u001b[0m\n\u001b[0;32m--> 949\u001b[0;31m         \u001b[0;32mreturn\u001b[0m \u001b[0mplot_backend\u001b[0m\u001b[0;34m.\u001b[0m\u001b[0mplot\u001b[0m\u001b[0;34m(\u001b[0m\u001b[0mdata\u001b[0m\u001b[0;34m,\u001b[0m \u001b[0mkind\u001b[0m\u001b[0;34m=\u001b[0m\u001b[0mkind\u001b[0m\u001b[0;34m,\u001b[0m \u001b[0;34m**\u001b[0m\u001b[0mkwargs\u001b[0m\u001b[0;34m)\u001b[0m\u001b[0;34m\u001b[0m\u001b[0;34m\u001b[0m\u001b[0m\n\u001b[0m\u001b[1;32m    950\u001b[0m \u001b[0;34m\u001b[0m\u001b[0m\n\u001b[1;32m    951\u001b[0m     \u001b[0m__call__\u001b[0m\u001b[0;34m.\u001b[0m\u001b[0m__doc__\u001b[0m \u001b[0;34m=\u001b[0m \u001b[0m__doc__\u001b[0m\u001b[0;34m\u001b[0m\u001b[0;34m\u001b[0m\u001b[0m\n",
      "\u001b[0;32m~/conda/envs/python/lib/python3.6/site-packages/pandas/plotting/_matplotlib/__init__.py\u001b[0m in \u001b[0;36mplot\u001b[0;34m(data, kind, **kwargs)\u001b[0m\n\u001b[1;32m     59\u001b[0m             \u001b[0mkwargs\u001b[0m\u001b[0;34m[\u001b[0m\u001b[0;34m\"ax\"\u001b[0m\u001b[0;34m]\u001b[0m \u001b[0;34m=\u001b[0m \u001b[0mgetattr\u001b[0m\u001b[0;34m(\u001b[0m\u001b[0max\u001b[0m\u001b[0;34m,\u001b[0m \u001b[0;34m\"left_ax\"\u001b[0m\u001b[0;34m,\u001b[0m \u001b[0max\u001b[0m\u001b[0;34m)\u001b[0m\u001b[0;34m\u001b[0m\u001b[0;34m\u001b[0m\u001b[0m\n\u001b[1;32m     60\u001b[0m     \u001b[0mplot_obj\u001b[0m \u001b[0;34m=\u001b[0m \u001b[0mPLOT_CLASSES\u001b[0m\u001b[0;34m[\u001b[0m\u001b[0mkind\u001b[0m\u001b[0;34m]\u001b[0m\u001b[0;34m(\u001b[0m\u001b[0mdata\u001b[0m\u001b[0;34m,\u001b[0m \u001b[0;34m**\u001b[0m\u001b[0mkwargs\u001b[0m\u001b[0;34m)\u001b[0m\u001b[0;34m\u001b[0m\u001b[0;34m\u001b[0m\u001b[0m\n\u001b[0;32m---> 61\u001b[0;31m     \u001b[0mplot_obj\u001b[0m\u001b[0;34m.\u001b[0m\u001b[0mgenerate\u001b[0m\u001b[0;34m(\u001b[0m\u001b[0;34m)\u001b[0m\u001b[0;34m\u001b[0m\u001b[0;34m\u001b[0m\u001b[0m\n\u001b[0m\u001b[1;32m     62\u001b[0m     \u001b[0mplot_obj\u001b[0m\u001b[0;34m.\u001b[0m\u001b[0mdraw\u001b[0m\u001b[0;34m(\u001b[0m\u001b[0;34m)\u001b[0m\u001b[0;34m\u001b[0m\u001b[0;34m\u001b[0m\u001b[0m\n\u001b[1;32m     63\u001b[0m     \u001b[0;32mreturn\u001b[0m \u001b[0mplot_obj\u001b[0m\u001b[0;34m.\u001b[0m\u001b[0mresult\u001b[0m\u001b[0;34m\u001b[0m\u001b[0;34m\u001b[0m\u001b[0m\n",
      "\u001b[0;32m~/conda/envs/python/lib/python3.6/site-packages/pandas/plotting/_matplotlib/core.py\u001b[0m in \u001b[0;36mgenerate\u001b[0;34m(self)\u001b[0m\n\u001b[1;32m    276\u001b[0m         \u001b[0;32mfor\u001b[0m \u001b[0max\u001b[0m \u001b[0;32min\u001b[0m \u001b[0mself\u001b[0m\u001b[0;34m.\u001b[0m\u001b[0maxes\u001b[0m\u001b[0;34m:\u001b[0m\u001b[0;34m\u001b[0m\u001b[0;34m\u001b[0m\u001b[0m\n\u001b[1;32m    277\u001b[0m             \u001b[0mself\u001b[0m\u001b[0;34m.\u001b[0m\u001b[0m_post_plot_logic_common\u001b[0m\u001b[0;34m(\u001b[0m\u001b[0max\u001b[0m\u001b[0;34m,\u001b[0m \u001b[0mself\u001b[0m\u001b[0;34m.\u001b[0m\u001b[0mdata\u001b[0m\u001b[0;34m)\u001b[0m\u001b[0;34m\u001b[0m\u001b[0;34m\u001b[0m\u001b[0m\n\u001b[0;32m--> 278\u001b[0;31m             \u001b[0mself\u001b[0m\u001b[0;34m.\u001b[0m\u001b[0m_post_plot_logic\u001b[0m\u001b[0;34m(\u001b[0m\u001b[0max\u001b[0m\u001b[0;34m,\u001b[0m \u001b[0mself\u001b[0m\u001b[0;34m.\u001b[0m\u001b[0mdata\u001b[0m\u001b[0;34m)\u001b[0m\u001b[0;34m\u001b[0m\u001b[0;34m\u001b[0m\u001b[0m\n\u001b[0m\u001b[1;32m    279\u001b[0m \u001b[0;34m\u001b[0m\u001b[0m\n\u001b[1;32m    280\u001b[0m     \u001b[0;32mdef\u001b[0m \u001b[0m_args_adjust\u001b[0m\u001b[0;34m(\u001b[0m\u001b[0mself\u001b[0m\u001b[0;34m)\u001b[0m\u001b[0;34m:\u001b[0m\u001b[0;34m\u001b[0m\u001b[0;34m\u001b[0m\u001b[0m\n",
      "\u001b[0;32m~/conda/envs/python/lib/python3.6/site-packages/pandas/plotting/_matplotlib/core.py\u001b[0m in \u001b[0;36m_post_plot_logic\u001b[0;34m(self, ax, data)\u001b[0m\n\u001b[1;32m   1459\u001b[0m         \u001b[0mname\u001b[0m \u001b[0;34m=\u001b[0m \u001b[0mself\u001b[0m\u001b[0;34m.\u001b[0m\u001b[0m_get_index_name\u001b[0m\u001b[0;34m(\u001b[0m\u001b[0;34m)\u001b[0m\u001b[0;34m\u001b[0m\u001b[0;34m\u001b[0m\u001b[0m\n\u001b[1;32m   1460\u001b[0m \u001b[0;34m\u001b[0m\u001b[0m\n\u001b[0;32m-> 1461\u001b[0;31m         \u001b[0ms_edge\u001b[0m \u001b[0;34m=\u001b[0m \u001b[0mself\u001b[0m\u001b[0;34m.\u001b[0m\u001b[0max_pos\u001b[0m\u001b[0;34m[\u001b[0m\u001b[0;36m0\u001b[0m\u001b[0;34m]\u001b[0m \u001b[0;34m-\u001b[0m \u001b[0;36m0.25\u001b[0m \u001b[0;34m+\u001b[0m \u001b[0mself\u001b[0m\u001b[0;34m.\u001b[0m\u001b[0mlim_offset\u001b[0m\u001b[0;34m\u001b[0m\u001b[0;34m\u001b[0m\u001b[0m\n\u001b[0m\u001b[1;32m   1462\u001b[0m         \u001b[0me_edge\u001b[0m \u001b[0;34m=\u001b[0m \u001b[0mself\u001b[0m\u001b[0;34m.\u001b[0m\u001b[0max_pos\u001b[0m\u001b[0;34m[\u001b[0m\u001b[0;34m-\u001b[0m\u001b[0;36m1\u001b[0m\u001b[0;34m]\u001b[0m \u001b[0;34m+\u001b[0m \u001b[0;36m0.25\u001b[0m \u001b[0;34m+\u001b[0m \u001b[0mself\u001b[0m\u001b[0;34m.\u001b[0m\u001b[0mbar_width\u001b[0m \u001b[0;34m+\u001b[0m \u001b[0mself\u001b[0m\u001b[0;34m.\u001b[0m\u001b[0mlim_offset\u001b[0m\u001b[0;34m\u001b[0m\u001b[0;34m\u001b[0m\u001b[0m\n\u001b[1;32m   1463\u001b[0m \u001b[0;34m\u001b[0m\u001b[0m\n",
      "\u001b[0;31mIndexError\u001b[0m: index 0 is out of bounds for axis 0 with size 0"
     ]
    },
    {
     "data": {
      "image/png": "[encoded data removed]",
      "text/plain": [
       "<Figure size 432x288 with 1 Axes>"
      ]
     },
     "metadata": {
      "needs_background": "light"
     },
     "output_type": "display_data"
    }
   ],
   "source": [
    "weight_diff={}\n",
    "for i in range(len(comm_stocks)):\n",
    "    ticker=comm_stocks[i]\n",
    "    weight_diff[ticker]=(df_portfolio.loc['weight',\n",
    "                                          ticker]-df_saved.loc['weight',ticker])/df_portfolio.loc['weight',ticker]*100\n",
    "df_weight_diff=pd.DataFrame(weight_diff,index=['weight_diff'])\n",
    "print('Sum: {}, Min.: {}, Max.: {}'.format(df_weight_diff.sum(axis=1),df_weight_diff.min(axis=1),df_weight_diff.max(axis=1)))\n",
    "df_weight_diff.transpose().plot(kind='bar');"
   ]
  },
  {
   "cell_type": "markdown",
   "metadata": {},
   "source": [
    "## Lowest Trending"
   ]
  },
  {
   "cell_type": "code",
   "execution_count": null,
   "metadata": {},
   "outputs": [],
   "source": [
    "# Initialize the portfolio dataframe df_portfolio and update the index suitably\n",
    "df_portfolio=df_norm_price_est_obj\n",
    "df_portfolio=df_portfolio.reindex(['reward','risk','returns_ratio','weight','price_bound','suggested_investment'])\n",
    "df_portfolio=df_portfolio.rename_axis(index='Parameters')\n",
    "\n",
    "# Update \"reward\" using the slope of the line fit (multiplied by a suitable factor for display)\n",
    "for item in (df_portfolio.columns):\n",
    "    df_portfolio.loc['reward',item]=(df_norm_price_est_obj.loc['fit_obj',item].coef_[0])*10**17\n",
    "    \n",
    "# Update the \"volatility\" as the percent price bound\n",
    "for item in (df_portfolio.columns):\n",
    "    df_portfolio.loc['risk',item]=(df_norm_price_est_obj.loc['bound',item])\n",
    "                                         \n",
    "# Update the returns ratio as the ratio between the \"reward\" and \"volatility\"\n",
    "for item in (df_portfolio.columns):\n",
    "    df_portfolio.loc['returns_ratio',item]=(df_portfolio.loc['reward',item]/\n",
    "                                            df_portfolio.loc['risk',item])\n",
    "    \n",
    "# Remove those listings with negative returns_ratio since those imply a falling stock\n",
    "df_price_est_end=price_est(df,df_norm_price_est_obj,df_start,[df.index[-1].strftime('%m/%d/%y')])\n",
    "for item in df_portfolio.columns:\n",
    "    item_low_str=item+'_low'\n",
    "    item_hi_str=item+'_high'\n",
    "    if df_portfolio.loc['returns_ratio',item]>=-21 or df[item].iloc[-1]>=df_price_est_end[item_hi_str].to_numpy()[0]:\n",
    "        if df_portfolio.loc['reward',item]>=-201:\n",
    "            df_portfolio.pop(item)\n",
    "        \n",
    "# Obtain the weighted average of the returns ratio for each listing\n",
    "for item in (df_portfolio.columns):\n",
    "    df_portfolio.loc['weight',item]=df_portfolio.loc['returns_ratio',item]/df_portfolio.loc['returns_ratio',:].sum()\n",
    "    \n",
    "# Update stop loss limit\n",
    "for item in (df_portfolio.columns):\n",
    "    df_portfolio.loc['price_bound',item]=df_norm_price_est_obj.loc['price_bounds',item]\n",
    "    \n",
    "# Multiply the weight of each listing by the total investment capital to obtain the recommended investment\n",
    "for item in (df_portfolio.columns):\n",
    "    df_portfolio.loc['suggested_investment',item]=df_portfolio.loc['weight',item]*total_investment\n",
    "\n",
    "    \n",
    "# Display the portfolio dataframe\n",
    "df_portfolio.sort_values(axis=1,by='weight',ascending=False).style.background_gradient(axis=1).format(\"{:.2f}\")"
   ]
  },
  {
   "cell_type": "code",
   "execution_count": null,
   "metadata": {},
   "outputs": [],
   "source": []
  }
 ],
 "metadata": {
  "kernelspec": {
   "display_name": "Python",
   "language": "python",
   "name": "conda-env-python-py"
  },
  "language_info": {
   "codemirror_mode": {
    "name": "ipython",
    "version": 3
   },
   "file_extension": ".py",
   "mimetype": "text/x-python",
   "name": "python",
   "nbconvert_exporter": "python",
   "pygments_lexer": "ipython3",
   "version": "3.6.12"
  }
 },
 "nbformat": 4,
 "nbformat_minor": 4
}
